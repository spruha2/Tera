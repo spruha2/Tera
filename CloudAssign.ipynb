{
 "cells": [
  {
   "cell_type": "code",
   "execution_count": 1,
   "id": "48043f7f",
   "metadata": {},
   "outputs": [],
   "source": [
    "#importing Important Library\n",
    "\n",
    "import re\n",
    "import numpy as np\n",
    "import pandas as pd\n",
    "import nltk\n",
    "\n",
    "import seaborn as sns\n",
    "import matplotlib.pyplot as plt\n",
    "import matplotlib\n",
    "matplotlib.style.use('ggplot')\n",
    "\n",
    "from sklearn.preprocessing import StandardScaler"
   ]
  },
  {
   "cell_type": "code",
   "execution_count": 2,
   "id": "5bb9e938",
   "metadata": {},
   "outputs": [],
   "source": [
    "#Loading Data\n",
    "\n",
    "gpu = pd.read_csv('GPU.csv')\n",
    "xy = pd.read_csv('Task-x-y.csv')\n",
    "ac = pd.read_csv('Application-checkpoints.csv')"
   ]
  },
  {
   "cell_type": "markdown",
   "id": "b8f4ad94",
   "metadata": {},
   "source": [
    "Now lets explore the data structure"
   ]
  },
  {
   "cell_type": "code",
   "execution_count": 3,
   "id": "5b066d6c",
   "metadata": {},
   "outputs": [
    {
     "name": "stdout",
     "output_type": "stream",
     "text": [
      "Shape of GPU : (1048575, 8)\n",
      "Shape of Task-x-y : (65793, 5)\n",
      "Shape of Application-checkpoints : (660400, 6)\n"
     ]
    }
   ],
   "source": [
    "# Shape of the data frame \n",
    "\n",
    "print(f\"Shape of GPU : {gpu.shape}\")\n",
    "print(f\"Shape of Task-x-y : {xy.shape}\")\n",
    "print(f\"Shape of Application-checkpoints : {ac.shape}\")"
   ]
  },
  {
   "cell_type": "markdown",
   "id": "d970cff4",
   "metadata": {},
   "source": [
    "So Now we know that three data frames have different frame and different entries of data."
   ]
  },
  {
   "cell_type": "code",
   "execution_count": 4,
   "id": "73546d32",
   "metadata": {},
   "outputs": [
    {
     "name": "stdout",
     "output_type": "stream",
     "text": [
      "<class 'pandas.core.frame.DataFrame'>\n",
      "RangeIndex: 1048575 entries, 0 to 1048574\n",
      "Data columns (total 8 columns):\n",
      " #   Column          Non-Null Count    Dtype  \n",
      "---  ------          --------------    -----  \n",
      " 0   timestamp       1048575 non-null  object \n",
      " 1   hostname        1048575 non-null  object \n",
      " 2   gpuSerial       1048575 non-null  float64\n",
      " 3   gpuUUID         1048575 non-null  object \n",
      " 4   powerDrawWatt   1048575 non-null  float64\n",
      " 5   gpuTempC        1048575 non-null  int64  \n",
      " 6   gpuUtilPerc     1048575 non-null  int64  \n",
      " 7   gpuMemUtilPerc  1048575 non-null  int64  \n",
      "dtypes: float64(2), int64(3), object(3)\n",
      "memory usage: 64.0+ MB\n",
      "None\n",
      "<class 'pandas.core.frame.DataFrame'>\n",
      "RangeIndex: 65793 entries, 0 to 65792\n",
      "Data columns (total 5 columns):\n",
      " #   Column  Non-Null Count  Dtype \n",
      "---  ------  --------------  ----- \n",
      " 0   taskId  65793 non-null  object\n",
      " 1   jobId   65793 non-null  object\n",
      " 2   x       65793 non-null  int64 \n",
      " 3   y       65793 non-null  int64 \n",
      " 4   level   65793 non-null  int64 \n",
      "dtypes: int64(3), object(2)\n",
      "memory usage: 2.5+ MB\n",
      "None\n",
      "<class 'pandas.core.frame.DataFrame'>\n",
      "RangeIndex: 660400 entries, 0 to 660399\n",
      "Data columns (total 6 columns):\n",
      " #   Column     Non-Null Count   Dtype \n",
      "---  ------     --------------   ----- \n",
      " 0   timestamp  660400 non-null  object\n",
      " 1   hostname   660400 non-null  object\n",
      " 2   eventName  660400 non-null  object\n",
      " 3   eventType  660400 non-null  object\n",
      " 4   jobId      660400 non-null  object\n",
      " 5   taskId     660400 non-null  object\n",
      "dtypes: object(6)\n",
      "memory usage: 30.2+ MB\n",
      "None\n"
     ]
    }
   ],
   "source": [
    "# Summary structure of each column of each data frame\n",
    "\n",
    "print(gpu.info())\n",
    "print(xy.info())\n",
    "print(ac.info())"
   ]
  },
  {
   "cell_type": "markdown",
   "id": "5e299aac",
   "metadata": {},
   "source": [
    " Lets Dig for deeper understanding of data frames."
   ]
  },
  {
   "cell_type": "markdown",
   "id": "cced992c",
   "metadata": {},
   "source": [
    " To undestand the data better looking into few entries of the data frames"
   ]
  },
  {
   "cell_type": "code",
   "execution_count": 5,
   "id": "e2db2e51",
   "metadata": {},
   "outputs": [
    {
     "name": "stdout",
     "output_type": "stream",
     "text": [
      "------------ GPU ----------------\n"
     ]
    },
    {
     "data": {
      "text/html": [
       "<div>\n",
       "<style scoped>\n",
       "    .dataframe tbody tr th:only-of-type {\n",
       "        vertical-align: middle;\n",
       "    }\n",
       "\n",
       "    .dataframe tbody tr th {\n",
       "        vertical-align: top;\n",
       "    }\n",
       "\n",
       "    .dataframe thead th {\n",
       "        text-align: right;\n",
       "    }\n",
       "</style>\n",
       "<table border=\"1\" class=\"dataframe\">\n",
       "  <thead>\n",
       "    <tr style=\"text-align: right;\">\n",
       "      <th></th>\n",
       "      <th>timestamp</th>\n",
       "      <th>hostname</th>\n",
       "      <th>gpuSerial</th>\n",
       "      <th>gpuUUID</th>\n",
       "      <th>powerDrawWatt</th>\n",
       "      <th>gpuTempC</th>\n",
       "      <th>gpuUtilPerc</th>\n",
       "      <th>gpuMemUtilPerc</th>\n",
       "    </tr>\n",
       "  </thead>\n",
       "  <tbody>\n",
       "    <tr>\n",
       "      <th>0</th>\n",
       "      <td>2018-11-08T08:27:10.314Z</td>\n",
       "      <td>8b6a0eebc87b4cb2b0539e81075191b900001C</td>\n",
       "      <td>3.232170e+11</td>\n",
       "      <td>GPU-1d1602dc-f615-a7c7-ab53-fb4a7a479534</td>\n",
       "      <td>131.55</td>\n",
       "      <td>48</td>\n",
       "      <td>92</td>\n",
       "      <td>53</td>\n",
       "    </tr>\n",
       "    <tr>\n",
       "      <th>1</th>\n",
       "      <td>2018-11-08T08:27:10.192Z</td>\n",
       "      <td>d8241877cd994572b46c861e5d144c85000000</td>\n",
       "      <td>3.236170e+11</td>\n",
       "      <td>GPU-04a2dea7-f4f1-12d0-b94d-996446746e6f</td>\n",
       "      <td>117.03</td>\n",
       "      <td>40</td>\n",
       "      <td>92</td>\n",
       "      <td>48</td>\n",
       "    </tr>\n",
       "    <tr>\n",
       "      <th>2</th>\n",
       "      <td>2018-11-08T08:27:10.842Z</td>\n",
       "      <td>db871cd77a544e13bc791a64a0c8ed50000006</td>\n",
       "      <td>3.232170e+11</td>\n",
       "      <td>GPU-f4597939-a0b4-e78a-2436-12dbab9a350f</td>\n",
       "      <td>121.64</td>\n",
       "      <td>45</td>\n",
       "      <td>91</td>\n",
       "      <td>44</td>\n",
       "    </tr>\n",
       "    <tr>\n",
       "      <th>3</th>\n",
       "      <td>2018-11-08T08:27:10.424Z</td>\n",
       "      <td>b9a1fa7ae2f74eb68f25f607980f97d7000010</td>\n",
       "      <td>3.252170e+11</td>\n",
       "      <td>GPU-ad773c69-c386-a4be-b214-1ea4fc6045df</td>\n",
       "      <td>50.23</td>\n",
       "      <td>38</td>\n",
       "      <td>90</td>\n",
       "      <td>43</td>\n",
       "    </tr>\n",
       "    <tr>\n",
       "      <th>4</th>\n",
       "      <td>2018-11-08T08:27:10.937Z</td>\n",
       "      <td>db871cd77a544e13bc791a64a0c8ed50000003</td>\n",
       "      <td>3.232170e+11</td>\n",
       "      <td>GPU-2d4eed64-4ca8-f12c-24bc-28f036493ea2</td>\n",
       "      <td>141.82</td>\n",
       "      <td>41</td>\n",
       "      <td>90</td>\n",
       "      <td>47</td>\n",
       "    </tr>\n",
       "  </tbody>\n",
       "</table>\n",
       "</div>"
      ],
      "text/plain": [
       "                  timestamp                                hostname  \\\n",
       "0  2018-11-08T08:27:10.314Z  8b6a0eebc87b4cb2b0539e81075191b900001C   \n",
       "1  2018-11-08T08:27:10.192Z  d8241877cd994572b46c861e5d144c85000000   \n",
       "2  2018-11-08T08:27:10.842Z  db871cd77a544e13bc791a64a0c8ed50000006   \n",
       "3  2018-11-08T08:27:10.424Z  b9a1fa7ae2f74eb68f25f607980f97d7000010   \n",
       "4  2018-11-08T08:27:10.937Z  db871cd77a544e13bc791a64a0c8ed50000003   \n",
       "\n",
       "      gpuSerial                                   gpuUUID  powerDrawWatt  \\\n",
       "0  3.232170e+11  GPU-1d1602dc-f615-a7c7-ab53-fb4a7a479534         131.55   \n",
       "1  3.236170e+11  GPU-04a2dea7-f4f1-12d0-b94d-996446746e6f         117.03   \n",
       "2  3.232170e+11  GPU-f4597939-a0b4-e78a-2436-12dbab9a350f         121.64   \n",
       "3  3.252170e+11  GPU-ad773c69-c386-a4be-b214-1ea4fc6045df          50.23   \n",
       "4  3.232170e+11  GPU-2d4eed64-4ca8-f12c-24bc-28f036493ea2         141.82   \n",
       "\n",
       "   gpuTempC  gpuUtilPerc  gpuMemUtilPerc  \n",
       "0        48           92              53  \n",
       "1        40           92              48  \n",
       "2        45           91              44  \n",
       "3        38           90              43  \n",
       "4        41           90              47  "
      ]
     },
     "execution_count": 5,
     "metadata": {},
     "output_type": "execute_result"
    }
   ],
   "source": [
    "print(\"------------ GPU ----------------\")\n",
    "gpu.head()"
   ]
  },
  {
   "cell_type": "code",
   "execution_count": 6,
   "id": "f34f2998",
   "metadata": {},
   "outputs": [
    {
     "name": "stdout",
     "output_type": "stream",
     "text": [
      "------------ task-x-y ----------------\n"
     ]
    },
    {
     "data": {
      "text/html": [
       "<div>\n",
       "<style scoped>\n",
       "    .dataframe tbody tr th:only-of-type {\n",
       "        vertical-align: middle;\n",
       "    }\n",
       "\n",
       "    .dataframe tbody tr th {\n",
       "        vertical-align: top;\n",
       "    }\n",
       "\n",
       "    .dataframe thead th {\n",
       "        text-align: right;\n",
       "    }\n",
       "</style>\n",
       "<table border=\"1\" class=\"dataframe\">\n",
       "  <thead>\n",
       "    <tr style=\"text-align: right;\">\n",
       "      <th></th>\n",
       "      <th>taskId</th>\n",
       "      <th>jobId</th>\n",
       "      <th>x</th>\n",
       "      <th>y</th>\n",
       "      <th>level</th>\n",
       "    </tr>\n",
       "  </thead>\n",
       "  <tbody>\n",
       "    <tr>\n",
       "      <th>0</th>\n",
       "      <td>00004e77-304c-4fbd-88a1-1346ef947567</td>\n",
       "      <td>1024-lvl12-7e026be3-5fd0-48ee-b7d1-abd61f747705</td>\n",
       "      <td>116</td>\n",
       "      <td>178</td>\n",
       "      <td>12</td>\n",
       "    </tr>\n",
       "    <tr>\n",
       "      <th>1</th>\n",
       "      <td>0002afb5-d05e-4da9-bd53-7b6dc19ea6d4</td>\n",
       "      <td>1024-lvl12-7e026be3-5fd0-48ee-b7d1-abd61f747705</td>\n",
       "      <td>142</td>\n",
       "      <td>190</td>\n",
       "      <td>12</td>\n",
       "    </tr>\n",
       "    <tr>\n",
       "      <th>2</th>\n",
       "      <td>0003c380-4db9-49fb-8e1c-6f8ae466ad85</td>\n",
       "      <td>1024-lvl12-7e026be3-5fd0-48ee-b7d1-abd61f747705</td>\n",
       "      <td>142</td>\n",
       "      <td>86</td>\n",
       "      <td>12</td>\n",
       "    </tr>\n",
       "    <tr>\n",
       "      <th>3</th>\n",
       "      <td>000993b6-fc88-489d-a4ca-0a44fd800bd3</td>\n",
       "      <td>1024-lvl12-7e026be3-5fd0-48ee-b7d1-abd61f747705</td>\n",
       "      <td>235</td>\n",
       "      <td>11</td>\n",
       "      <td>12</td>\n",
       "    </tr>\n",
       "    <tr>\n",
       "      <th>4</th>\n",
       "      <td>000b158b-0ba3-4dca-bf5b-1b3bd5c28207</td>\n",
       "      <td>1024-lvl12-7e026be3-5fd0-48ee-b7d1-abd61f747705</td>\n",
       "      <td>171</td>\n",
       "      <td>53</td>\n",
       "      <td>12</td>\n",
       "    </tr>\n",
       "  </tbody>\n",
       "</table>\n",
       "</div>"
      ],
      "text/plain": [
       "                                 taskId  \\\n",
       "0  00004e77-304c-4fbd-88a1-1346ef947567   \n",
       "1  0002afb5-d05e-4da9-bd53-7b6dc19ea6d4   \n",
       "2  0003c380-4db9-49fb-8e1c-6f8ae466ad85   \n",
       "3  000993b6-fc88-489d-a4ca-0a44fd800bd3   \n",
       "4  000b158b-0ba3-4dca-bf5b-1b3bd5c28207   \n",
       "\n",
       "                                             jobId    x    y  level  \n",
       "0  1024-lvl12-7e026be3-5fd0-48ee-b7d1-abd61f747705  116  178     12  \n",
       "1  1024-lvl12-7e026be3-5fd0-48ee-b7d1-abd61f747705  142  190     12  \n",
       "2  1024-lvl12-7e026be3-5fd0-48ee-b7d1-abd61f747705  142   86     12  \n",
       "3  1024-lvl12-7e026be3-5fd0-48ee-b7d1-abd61f747705  235   11     12  \n",
       "4  1024-lvl12-7e026be3-5fd0-48ee-b7d1-abd61f747705  171   53     12  "
      ]
     },
     "execution_count": 6,
     "metadata": {},
     "output_type": "execute_result"
    }
   ],
   "source": [
    "print(\"------------ task-x-y ----------------\")\n",
    "xy.head()"
   ]
  },
  {
   "cell_type": "code",
   "execution_count": 7,
   "id": "6654e6dc",
   "metadata": {},
   "outputs": [
    {
     "name": "stdout",
     "output_type": "stream",
     "text": [
      "------------ ac ----------------\n"
     ]
    },
    {
     "data": {
      "text/html": [
       "<div>\n",
       "<style scoped>\n",
       "    .dataframe tbody tr th:only-of-type {\n",
       "        vertical-align: middle;\n",
       "    }\n",
       "\n",
       "    .dataframe tbody tr th {\n",
       "        vertical-align: top;\n",
       "    }\n",
       "\n",
       "    .dataframe thead th {\n",
       "        text-align: right;\n",
       "    }\n",
       "</style>\n",
       "<table border=\"1\" class=\"dataframe\">\n",
       "  <thead>\n",
       "    <tr style=\"text-align: right;\">\n",
       "      <th></th>\n",
       "      <th>timestamp</th>\n",
       "      <th>hostname</th>\n",
       "      <th>eventName</th>\n",
       "      <th>eventType</th>\n",
       "      <th>jobId</th>\n",
       "      <th>taskId</th>\n",
       "    </tr>\n",
       "  </thead>\n",
       "  <tbody>\n",
       "    <tr>\n",
       "      <th>0</th>\n",
       "      <td>2018-11-08T07:41:55.921Z</td>\n",
       "      <td>0d56a730076643d585f77e00d2d8521a00000N</td>\n",
       "      <td>Tiling</td>\n",
       "      <td>STOP</td>\n",
       "      <td>1024-lvl12-7e026be3-5fd0-48ee-b7d1-abd61f747705</td>\n",
       "      <td>b47f0263-ba1c-48a7-8d29-4bf021b72043</td>\n",
       "    </tr>\n",
       "    <tr>\n",
       "      <th>1</th>\n",
       "      <td>2018-11-08T07:42:29.842Z</td>\n",
       "      <td>0d56a730076643d585f77e00d2d8521a00000N</td>\n",
       "      <td>Saving Config</td>\n",
       "      <td>START</td>\n",
       "      <td>1024-lvl12-7e026be3-5fd0-48ee-b7d1-abd61f747705</td>\n",
       "      <td>20fb9fcf-a927-4a4b-a64c-70258b66b42d</td>\n",
       "    </tr>\n",
       "    <tr>\n",
       "      <th>2</th>\n",
       "      <td>2018-11-08T07:42:29.845Z</td>\n",
       "      <td>0d56a730076643d585f77e00d2d8521a00000N</td>\n",
       "      <td>Saving Config</td>\n",
       "      <td>STOP</td>\n",
       "      <td>1024-lvl12-7e026be3-5fd0-48ee-b7d1-abd61f747705</td>\n",
       "      <td>20fb9fcf-a927-4a4b-a64c-70258b66b42d</td>\n",
       "    </tr>\n",
       "    <tr>\n",
       "      <th>3</th>\n",
       "      <td>2018-11-08T07:42:29.845Z</td>\n",
       "      <td>0d56a730076643d585f77e00d2d8521a00000N</td>\n",
       "      <td>Render</td>\n",
       "      <td>START</td>\n",
       "      <td>1024-lvl12-7e026be3-5fd0-48ee-b7d1-abd61f747705</td>\n",
       "      <td>20fb9fcf-a927-4a4b-a64c-70258b66b42d</td>\n",
       "    </tr>\n",
       "    <tr>\n",
       "      <th>4</th>\n",
       "      <td>2018-11-08T07:43:13.957Z</td>\n",
       "      <td>0d56a730076643d585f77e00d2d8521a00000N</td>\n",
       "      <td>TotalRender</td>\n",
       "      <td>STOP</td>\n",
       "      <td>1024-lvl12-7e026be3-5fd0-48ee-b7d1-abd61f747705</td>\n",
       "      <td>20fb9fcf-a927-4a4b-a64c-70258b66b42d</td>\n",
       "    </tr>\n",
       "  </tbody>\n",
       "</table>\n",
       "</div>"
      ],
      "text/plain": [
       "                  timestamp                                hostname  \\\n",
       "0  2018-11-08T07:41:55.921Z  0d56a730076643d585f77e00d2d8521a00000N   \n",
       "1  2018-11-08T07:42:29.842Z  0d56a730076643d585f77e00d2d8521a00000N   \n",
       "2  2018-11-08T07:42:29.845Z  0d56a730076643d585f77e00d2d8521a00000N   \n",
       "3  2018-11-08T07:42:29.845Z  0d56a730076643d585f77e00d2d8521a00000N   \n",
       "4  2018-11-08T07:43:13.957Z  0d56a730076643d585f77e00d2d8521a00000N   \n",
       "\n",
       "       eventName eventType                                            jobId  \\\n",
       "0         Tiling      STOP  1024-lvl12-7e026be3-5fd0-48ee-b7d1-abd61f747705   \n",
       "1  Saving Config     START  1024-lvl12-7e026be3-5fd0-48ee-b7d1-abd61f747705   \n",
       "2  Saving Config      STOP  1024-lvl12-7e026be3-5fd0-48ee-b7d1-abd61f747705   \n",
       "3         Render     START  1024-lvl12-7e026be3-5fd0-48ee-b7d1-abd61f747705   \n",
       "4    TotalRender      STOP  1024-lvl12-7e026be3-5fd0-48ee-b7d1-abd61f747705   \n",
       "\n",
       "                                 taskId  \n",
       "0  b47f0263-ba1c-48a7-8d29-4bf021b72043  \n",
       "1  20fb9fcf-a927-4a4b-a64c-70258b66b42d  \n",
       "2  20fb9fcf-a927-4a4b-a64c-70258b66b42d  \n",
       "3  20fb9fcf-a927-4a4b-a64c-70258b66b42d  \n",
       "4  20fb9fcf-a927-4a4b-a64c-70258b66b42d  "
      ]
     },
     "execution_count": 7,
     "metadata": {},
     "output_type": "execute_result"
    }
   ],
   "source": [
    "print(\"------------ ac ----------------\")\n",
    "ac.head()"
   ]
  },
  {
   "cell_type": "markdown",
   "id": "fa2c99c8",
   "metadata": {},
   "source": [
    "It will be an easier analysis if all three dataframes combined into one, but before that we need to remove column with null or na entry."
   ]
  },
  {
   "cell_type": "code",
   "execution_count": 8,
   "id": "693d6d77",
   "metadata": {},
   "outputs": [],
   "source": [
    "# Dropping NULL or NA entries.\n",
    "\n",
    "ac.dropna(inplace=True)\n",
    "xy.dropna(inplace=True)\n",
    "gpu.dropna(inplace=True)"
   ]
  },
  {
   "cell_type": "code",
   "execution_count": 9,
   "id": "3ef69717",
   "metadata": {},
   "outputs": [
    {
     "name": "stdout",
     "output_type": "stream",
     "text": [
      "<class 'pandas.core.frame.DataFrame'>\n",
      "Int64Index: 660400 entries, 0 to 660399\n",
      "Data columns (total 9 columns):\n",
      " #   Column     Non-Null Count   Dtype \n",
      "---  ------     --------------   ----- \n",
      " 0   taskId     660400 non-null  object\n",
      " 1   jobId      660400 non-null  object\n",
      " 2   x          660400 non-null  int64 \n",
      " 3   y          660400 non-null  int64 \n",
      " 4   level      660400 non-null  int64 \n",
      " 5   timestamp  660400 non-null  object\n",
      " 6   hostname   660400 non-null  object\n",
      " 7   eventName  660400 non-null  object\n",
      " 8   eventType  660400 non-null  object\n",
      "dtypes: int64(3), object(6)\n",
      "memory usage: 50.4+ MB\n"
     ]
    }
   ],
   "source": [
    "# Merging 2 dataframes based on columns using join operation\n",
    "\n",
    "merged_table = xy.merge( ac, on=['jobId','taskId'], how='outer')\n",
    "\n",
    "merged_table.info()"
   ]
  },
  {
   "cell_type": "markdown",
   "id": "bb038d1b",
   "metadata": {},
   "source": [
    "#Now attempting to merge the third dataframe to already existing  merged dataframes\n",
    "\n",
    "merged_table1 = ac.merge( gpu, on=['hostname'], how='outer')\n",
    "\n",
    "After multiple attempts kernel died, so instead of combining the dataframes, preferring to work in seperate data frame"
   ]
  },
  {
   "cell_type": "code",
   "execution_count": 10,
   "id": "68d30877",
   "metadata": {
    "scrolled": true
   },
   "outputs": [
    {
     "name": "stdout",
     "output_type": "stream",
     "text": [
      "Duplicate entried in  GPU : 6\n",
      "Duplicate entried in  Task-x-y : 0\n",
      "Duplicate entried in  Application-checkpoints : 2470\n"
     ]
    }
   ],
   "source": [
    "# Checking for any duplicate entries in the dataset for each data frames\n",
    "\n",
    "print(f\"Duplicate entried in  GPU : {gpu.duplicated().sum()}\")\n",
    "print(f\"Duplicate entried in  Task-x-y : {xy.duplicated().sum()}\")\n",
    "print(f\"Duplicate entried in  Application-checkpoints : {ac.duplicated().sum()}\")"
   ]
  },
  {
   "cell_type": "code",
   "execution_count": 11,
   "id": "416deacb",
   "metadata": {},
   "outputs": [],
   "source": [
    "# Removing duplicate entries\n",
    "\n",
    "gpu.drop_duplicates(inplace=True)\n",
    "xy.drop_duplicates(inplace=True)\n",
    "ac.drop_duplicates(inplace=True)"
   ]
  },
  {
   "cell_type": "markdown",
   "id": "704cbf01",
   "metadata": {},
   "source": [
    "# GOAL 1 : Which event types dominate task runtimes?"
   ]
  },
  {
   "cell_type": "markdown",
   "id": "a5b8eaaa",
   "metadata": {},
   "source": [
    "Lets first check how many types of events are present "
   ]
  },
  {
   "cell_type": "code",
   "execution_count": 12,
   "id": "2f065baf",
   "metadata": {},
   "outputs": [
    {
     "data": {
      "text/plain": [
       "array(['Tiling', 'Saving Config', 'Render', 'TotalRender', 'Uploading'],\n",
       "      dtype=object)"
      ]
     },
     "execution_count": 12,
     "metadata": {},
     "output_type": "execute_result"
    }
   ],
   "source": [
    "# Checking the number of unique events in the dataset\n",
    "\n",
    "ac['eventName'].unique()"
   ]
  },
  {
   "cell_type": "markdown",
   "id": "492b8b03",
   "metadata": {},
   "source": [
    "So there are 5 even types. Lets which takes maximum run times among these 5 events. each event has a entry when is START and when it STOP."
   ]
  },
  {
   "cell_type": "code",
   "execution_count": 13,
   "id": "d95b5e3c",
   "metadata": {},
   "outputs": [],
   "source": [
    "# Conversion of timestamp column to datetime for easier duration calculation in future\n",
    "\n",
    "ac['timestamp'] = pd.to_datetime(ac['timestamp'])\n",
    "gpu['timestamp'] = pd.to_datetime(gpu['timestamp'])\n"
   ]
  },
  {
   "cell_type": "code",
   "execution_count": 14,
   "id": "ff45c8ac",
   "metadata": {},
   "outputs": [],
   "source": [
    "# Converting timestamp to time calculate time\n",
    "\n",
    "\n",
    "#convert timestmap to seconds\n",
    "\n",
    "\n",
    "ac['time_seconds'] = ac['timestamp'].dt.hour*3600 + ac['timestamp'].dt.minute*60 + ac['timestamp'].dt.second\n"
   ]
  },
  {
   "cell_type": "code",
   "execution_count": 15,
   "id": "5a6e0bdc",
   "metadata": {},
   "outputs": [
    {
     "name": "stdout",
     "output_type": "stream",
     "text": [
      "            eventName eventType  time_seconds\n",
      "0              Tiling      STOP         27715\n",
      "1       Saving Config     START         27749\n",
      "2       Saving Config      STOP         27749\n",
      "3              Render     START         27749\n",
      "4         TotalRender      STOP         27793\n",
      "...               ...       ...           ...\n",
      "660395         Tiling      STOP         30610\n",
      "660396      Uploading      STOP         30610\n",
      "660397         Tiling      STOP         30614\n",
      "660398    TotalRender      STOP         30614\n",
      "660399      Uploading      STOP         30612\n",
      "\n",
      "[657930 rows x 3 columns]\n"
     ]
    }
   ],
   "source": [
    "# Dropping other columns which wont be required\n",
    "\n",
    "ACdrop = ac.drop(columns=['hostname','jobId','taskId','timestamp'])\n",
    "print(ACdrop)"
   ]
  },
  {
   "cell_type": "code",
   "execution_count": 16,
   "id": "8a1e3d59",
   "metadata": {},
   "outputs": [
    {
     "name": "stdout",
     "output_type": "stream",
     "text": [
      "                         time_seconds\n",
      "eventName     eventType              \n",
      "Render        START        1915934995\n",
      "              STOP         1918646223\n",
      "Saving Config START        1915934825\n",
      "              STOP         1915934989\n",
      "Tiling        START        1918646691\n",
      "              STOP         1918710709\n",
      "TotalRender   START        1915934819\n",
      "              STOP         1918737852\n",
      "Uploading     START        1918646230\n",
      "              STOP         1918737844\n"
     ]
    }
   ],
   "source": [
    "# Grouping based on event name and their event type\n",
    "\n",
    "\n",
    "ACdrop = ACdrop.groupby(by=['eventName','eventType']).sum()\n",
    "print(ACdrop)"
   ]
  },
  {
   "cell_type": "code",
   "execution_count": 17,
   "id": "9e4b4775",
   "metadata": {},
   "outputs": [
    {
     "name": "stdout",
     "output_type": "stream",
     "text": [
      "                         time_seconds  duration\n",
      "eventName     eventType                        \n",
      "Render        START        1915934995         0\n",
      "              STOP         1918646223   2711228\n",
      "Saving Config START        1915934825         0\n",
      "              STOP         1915934989       164\n",
      "Tiling        START        1918646691         0\n",
      "              STOP         1918710709     64018\n",
      "TotalRender   START        1915934819         0\n",
      "              STOP         1918737852   2803033\n",
      "Uploading     START        1918646230         0\n",
      "              STOP         1918737844     91614\n"
     ]
    }
   ],
   "source": [
    "# Calculate Duration between START and STOP of each event\n",
    "\n",
    "\n",
    "ACdrop['duration'] = ACdrop.groupby('eventName')['time_seconds'].diff()\n",
    "ACdrop['duration'] = ACdrop['duration'].fillna(0)\n",
    "ACdrop['duration'] = ACdrop['duration'].astype(int)\n",
    "print(ACdrop)"
   ]
  },
  {
   "cell_type": "code",
   "execution_count": 18,
   "id": "f468980b",
   "metadata": {},
   "outputs": [
    {
     "name": "stdout",
     "output_type": "stream",
     "text": [
      "                         duration\n",
      "eventName     eventType          \n",
      "Render        STOP        2711228\n",
      "Saving Config STOP            164\n",
      "Tiling        STOP          64018\n",
      "TotalRender   STOP        2803033\n",
      "Uploading     STOP          91614\n"
     ]
    }
   ],
   "source": [
    "# Dropping the unnecessary entry\n",
    "\n",
    "ACdrop = ACdrop[ACdrop['duration'] !=0]\n",
    "ACdrop = ACdrop.drop(columns =['time_seconds'])\n",
    "print(ACdrop)"
   ]
  },
  {
   "cell_type": "markdown",
   "id": "db268181",
   "metadata": {},
   "source": [
    "From context, we can eliminate event name =\"Total Render\", as it means total of all the other events."
   ]
  },
  {
   "cell_type": "code",
   "execution_count": 19,
   "id": "441d64d4",
   "metadata": {},
   "outputs": [],
   "source": [
    "# Dropping the unnecessary entry i.e. 'eventName' != 'TotalRender'\n",
    "\n",
    "\n",
    "ACdrop = ACdrop[ACdrop.index.get_level_values('eventName') != 'TotalRender']"
   ]
  },
  {
   "cell_type": "code",
   "execution_count": 20,
   "id": "77a029fa",
   "metadata": {},
   "outputs": [
    {
     "data": {
      "text/plain": [
       "<AxesSubplot:xlabel='eventName', ylabel='duration'>"
      ]
     },
     "execution_count": 20,
     "metadata": {},
     "output_type": "execute_result"
    },
    {
     "data": {
      "image/png": "[encoded data removed]",
      "text/plain": [
       "<Figure size 640x480 with 1 Axes>"
      ]
     },
     "metadata": {},
     "output_type": "display_data"
    }
   ],
   "source": [
    "sns.barplot(x= ACdrop.index.get_level_values('eventName'), y=ACdrop['duration'])"
   ]
  },
  {
   "cell_type": "markdown",
   "id": "6270861a",
   "metadata": {},
   "source": [
    "So from this data it is very much clear that \"Render\" event dominates task runtimes. And overall of the total runtime i.e. Total render, \"Render\" gains the maximum runtimes."
   ]
  },
  {
   "cell_type": "markdown",
   "id": "40832036",
   "metadata": {},
   "source": [
    "GOAL 2 : What is the interplay between GPU temperature and performance?"
   ]
  },
  {
   "cell_type": "markdown",
   "id": "a613f6c4",
   "metadata": {},
   "source": [
    "For this particular task, we only require 2 parameters that define performance of GPU and GPU temperature, thus eliminating the rest of column and calculating correlation of each factor via corr()"
   ]
  },
  {
   "cell_type": "code",
   "execution_count": 21,
   "id": "4c633edc",
   "metadata": {},
   "outputs": [
    {
     "data": {
      "text/html": [
       "<div>\n",
       "<style scoped>\n",
       "    .dataframe tbody tr th:only-of-type {\n",
       "        vertical-align: middle;\n",
       "    }\n",
       "\n",
       "    .dataframe tbody tr th {\n",
       "        vertical-align: top;\n",
       "    }\n",
       "\n",
       "    .dataframe thead th {\n",
       "        text-align: right;\n",
       "    }\n",
       "</style>\n",
       "<table border=\"1\" class=\"dataframe\">\n",
       "  <thead>\n",
       "    <tr style=\"text-align: right;\">\n",
       "      <th></th>\n",
       "      <th>gpuTempC</th>\n",
       "      <th>gpuUtilPerc</th>\n",
       "      <th>gpuMemUtilPerc</th>\n",
       "    </tr>\n",
       "  </thead>\n",
       "  <tbody>\n",
       "    <tr>\n",
       "      <th>0</th>\n",
       "      <td>48</td>\n",
       "      <td>92</td>\n",
       "      <td>53</td>\n",
       "    </tr>\n",
       "    <tr>\n",
       "      <th>1</th>\n",
       "      <td>40</td>\n",
       "      <td>92</td>\n",
       "      <td>48</td>\n",
       "    </tr>\n",
       "    <tr>\n",
       "      <th>2</th>\n",
       "      <td>45</td>\n",
       "      <td>91</td>\n",
       "      <td>44</td>\n",
       "    </tr>\n",
       "    <tr>\n",
       "      <th>3</th>\n",
       "      <td>38</td>\n",
       "      <td>90</td>\n",
       "      <td>43</td>\n",
       "    </tr>\n",
       "    <tr>\n",
       "      <th>4</th>\n",
       "      <td>41</td>\n",
       "      <td>90</td>\n",
       "      <td>47</td>\n",
       "    </tr>\n",
       "    <tr>\n",
       "      <th>5</th>\n",
       "      <td>43</td>\n",
       "      <td>88</td>\n",
       "      <td>40</td>\n",
       "    </tr>\n",
       "    <tr>\n",
       "      <th>6</th>\n",
       "      <td>41</td>\n",
       "      <td>91</td>\n",
       "      <td>47</td>\n",
       "    </tr>\n",
       "    <tr>\n",
       "      <th>7</th>\n",
       "      <td>35</td>\n",
       "      <td>0</td>\n",
       "      <td>0</td>\n",
       "    </tr>\n",
       "    <tr>\n",
       "      <th>8</th>\n",
       "      <td>43</td>\n",
       "      <td>93</td>\n",
       "      <td>56</td>\n",
       "    </tr>\n",
       "    <tr>\n",
       "      <th>9</th>\n",
       "      <td>36</td>\n",
       "      <td>90</td>\n",
       "      <td>40</td>\n",
       "    </tr>\n",
       "    <tr>\n",
       "      <th>10</th>\n",
       "      <td>40</td>\n",
       "      <td>91</td>\n",
       "      <td>48</td>\n",
       "    </tr>\n",
       "    <tr>\n",
       "      <th>11</th>\n",
       "      <td>43</td>\n",
       "      <td>90</td>\n",
       "      <td>44</td>\n",
       "    </tr>\n",
       "    <tr>\n",
       "      <th>12</th>\n",
       "      <td>41</td>\n",
       "      <td>0</td>\n",
       "      <td>0</td>\n",
       "    </tr>\n",
       "    <tr>\n",
       "      <th>13</th>\n",
       "      <td>39</td>\n",
       "      <td>90</td>\n",
       "      <td>48</td>\n",
       "    </tr>\n",
       "    <tr>\n",
       "      <th>14</th>\n",
       "      <td>42</td>\n",
       "      <td>92</td>\n",
       "      <td>46</td>\n",
       "    </tr>\n",
       "  </tbody>\n",
       "</table>\n",
       "</div>"
      ],
      "text/plain": [
       "    gpuTempC  gpuUtilPerc  gpuMemUtilPerc\n",
       "0         48           92              53\n",
       "1         40           92              48\n",
       "2         45           91              44\n",
       "3         38           90              43\n",
       "4         41           90              47\n",
       "5         43           88              40\n",
       "6         41           91              47\n",
       "7         35            0               0\n",
       "8         43           93              56\n",
       "9         36           90              40\n",
       "10        40           91              48\n",
       "11        43           90              44\n",
       "12        41            0               0\n",
       "13        39           90              48\n",
       "14        42           92              46"
      ]
     },
     "execution_count": 21,
     "metadata": {},
     "output_type": "execute_result"
    }
   ],
   "source": [
    "# Dropping unnecesary column\n",
    "\n",
    "ac_gpu_cor = gpu.iloc[: , 5:8]\n",
    "ac_gpu_cor.head(15)"
   ]
  },
  {
   "cell_type": "markdown",
   "id": "b7c2999d",
   "metadata": {},
   "source": [
    "Now lets calculate the correlation of gpuTempC vs Performance i.e. gpuUtilPerc and gpuMemUtilPerc."
   ]
  },
  {
   "cell_type": "code",
   "execution_count": 22,
   "id": "c561f9fb",
   "metadata": {},
   "outputs": [
    {
     "name": "stdout",
     "output_type": "stream",
     "text": [
      " GPU Temp v/s GPU Utilization : 0.5012905440289371\n"
     ]
    }
   ],
   "source": [
    "# Correlation of the gpuTempC and gpuUtilPerc\n",
    "\n",
    "util = ac_gpu_cor['gpuTempC'].corr(ac_gpu_cor['gpuUtilPerc'])\n",
    "print(f\" GPU Temp v/s GPU Utilization : {util}\")\n"
   ]
  },
  {
   "cell_type": "markdown",
   "id": "57ae348f",
   "metadata": {},
   "source": [
    "This indicates a moderate positive correlation between the gpuTempC and gpuUtilPerc. "
   ]
  },
  {
   "cell_type": "code",
   "execution_count": 23,
   "id": "1f0cb51f",
   "metadata": {},
   "outputs": [
    {
     "name": "stdout",
     "output_type": "stream",
     "text": [
      " GPU Temp v/s GPU Memory Utilization : 0.488604371731998\n"
     ]
    }
   ],
   "source": [
    "# Correlation of the gpuTempC and gpuMemUtilPerc\n",
    "\n",
    "mem = ac_gpu_cor['gpuTempC'].corr(ac_gpu_cor['gpuMemUtilPerc'])\n",
    "print(f\" GPU Temp v/s GPU Memory Utilization : {mem}\")"
   ]
  },
  {
   "cell_type": "markdown",
   "id": "09f117ce",
   "metadata": {},
   "source": [
    "This indicates a moderate positive correlation between the gpuTempC and gpuMemUtilPerc. \n",
    "However, the correlation is weaker of gpuTempC & gpuMemUtilPerc as compared to   gpuTempC & gpuUtilPerc."
   ]
  },
  {
   "cell_type": "markdown",
   "id": "2fa24bd7",
   "metadata": {},
   "source": [
    "#    # Goal 3 : What is the interplay between increased power draw and render time? Can we quantify the variation in computation requirements for particular tiles?"
   ]
  },
  {
   "cell_type": "markdown",
   "id": "d587b9d0",
   "metadata": {},
   "source": [
    "For this task we need to combine the data frames ac and gpu, however last time attempt was failed. Lets try it with merge() function"
   ]
  },
  {
   "cell_type": "code",
   "execution_count": 24,
   "id": "292dffed",
   "metadata": {},
   "outputs": [
    {
     "name": "stdout",
     "output_type": "stream",
     "text": [
      "<class 'pandas.core.frame.DataFrame'>\n",
      "Int64Index: 231 entries, 0 to 230\n",
      "Data columns (total 13 columns):\n",
      " #   Column          Non-Null Count  Dtype              \n",
      "---  ------          --------------  -----              \n",
      " 0   timestamp       231 non-null    datetime64[ns, UTC]\n",
      " 1   hostname        231 non-null    object             \n",
      " 2   eventName       231 non-null    object             \n",
      " 3   eventType       231 non-null    object             \n",
      " 4   jobId           231 non-null    object             \n",
      " 5   taskId          231 non-null    object             \n",
      " 6   time_seconds    231 non-null    int64              \n",
      " 7   gpuSerial       231 non-null    float64            \n",
      " 8   gpuUUID         231 non-null    object             \n",
      " 9   powerDrawWatt   231 non-null    float64            \n",
      " 10  gpuTempC        231 non-null    int64              \n",
      " 11  gpuUtilPerc     231 non-null    int64              \n",
      " 12  gpuMemUtilPerc  231 non-null    int64              \n",
      "dtypes: datetime64[ns, UTC](1), float64(2), int64(4), object(6)\n",
      "memory usage: 25.3+ KB\n"
     ]
    },
    {
     "data": {
      "text/html": [
       "<div>\n",
       "<style scoped>\n",
       "    .dataframe tbody tr th:only-of-type {\n",
       "        vertical-align: middle;\n",
       "    }\n",
       "\n",
       "    .dataframe tbody tr th {\n",
       "        vertical-align: top;\n",
       "    }\n",
       "\n",
       "    .dataframe thead th {\n",
       "        text-align: right;\n",
       "    }\n",
       "</style>\n",
       "<table border=\"1\" class=\"dataframe\">\n",
       "  <thead>\n",
       "    <tr style=\"text-align: right;\">\n",
       "      <th></th>\n",
       "      <th>timestamp</th>\n",
       "      <th>hostname</th>\n",
       "      <th>eventName</th>\n",
       "      <th>eventType</th>\n",
       "      <th>jobId</th>\n",
       "      <th>taskId</th>\n",
       "      <th>time_seconds</th>\n",
       "      <th>gpuSerial</th>\n",
       "      <th>gpuUUID</th>\n",
       "      <th>powerDrawWatt</th>\n",
       "      <th>gpuTempC</th>\n",
       "      <th>gpuUtilPerc</th>\n",
       "      <th>gpuMemUtilPerc</th>\n",
       "    </tr>\n",
       "  </thead>\n",
       "  <tbody>\n",
       "    <tr>\n",
       "      <th>0</th>\n",
       "      <td>2018-11-08 07:42:59.534000+00:00</td>\n",
       "      <td>265232c5f6814768aeefa66a7bec6ff6000016</td>\n",
       "      <td>TotalRender</td>\n",
       "      <td>STOP</td>\n",
       "      <td>1024-lvl12-7e026be3-5fd0-48ee-b7d1-abd61f747705</td>\n",
       "      <td>2b887c36-8537-449c-8897-55d26e5f62b8</td>\n",
       "      <td>27779</td>\n",
       "      <td>3.232170e+11</td>\n",
       "      <td>GPU-6e17bcb9-d052-97d5-8066-32fe4ff15313</td>\n",
       "      <td>31.26</td>\n",
       "      <td>44</td>\n",
       "      <td>0</td>\n",
       "      <td>0</td>\n",
       "    </tr>\n",
       "    <tr>\n",
       "      <th>1</th>\n",
       "      <td>2018-11-08 07:42:59.534000+00:00</td>\n",
       "      <td>265232c5f6814768aeefa66a7bec6ff6000016</td>\n",
       "      <td>Uploading</td>\n",
       "      <td>STOP</td>\n",
       "      <td>1024-lvl12-7e026be3-5fd0-48ee-b7d1-abd61f747705</td>\n",
       "      <td>2b887c36-8537-449c-8897-55d26e5f62b8</td>\n",
       "      <td>27779</td>\n",
       "      <td>3.232170e+11</td>\n",
       "      <td>GPU-6e17bcb9-d052-97d5-8066-32fe4ff15313</td>\n",
       "      <td>31.26</td>\n",
       "      <td>44</td>\n",
       "      <td>0</td>\n",
       "      <td>0</td>\n",
       "    </tr>\n",
       "    <tr>\n",
       "      <th>2</th>\n",
       "      <td>2018-11-08 07:43:01.207000+00:00</td>\n",
       "      <td>4ad946d4435c42dabb5073531ea4f31500000R</td>\n",
       "      <td>Uploading</td>\n",
       "      <td>STOP</td>\n",
       "      <td>1024-lvl12-7e026be3-5fd0-48ee-b7d1-abd61f747705</td>\n",
       "      <td>9667bc99-6f91-4e14-af15-bec9b14ed888</td>\n",
       "      <td>27781</td>\n",
       "      <td>3.251170e+11</td>\n",
       "      <td>GPU-5d40da2a-c371-35b4-73fd-ee622b82220e</td>\n",
       "      <td>43.49</td>\n",
       "      <td>34</td>\n",
       "      <td>0</td>\n",
       "      <td>0</td>\n",
       "    </tr>\n",
       "    <tr>\n",
       "      <th>3</th>\n",
       "      <td>2018-11-08 07:43:01.207000+00:00</td>\n",
       "      <td>4ad946d4435c42dabb5073531ea4f31500000R</td>\n",
       "      <td>TotalRender</td>\n",
       "      <td>STOP</td>\n",
       "      <td>1024-lvl12-7e026be3-5fd0-48ee-b7d1-abd61f747705</td>\n",
       "      <td>9667bc99-6f91-4e14-af15-bec9b14ed888</td>\n",
       "      <td>27781</td>\n",
       "      <td>3.251170e+11</td>\n",
       "      <td>GPU-5d40da2a-c371-35b4-73fd-ee622b82220e</td>\n",
       "      <td>43.49</td>\n",
       "      <td>34</td>\n",
       "      <td>0</td>\n",
       "      <td>0</td>\n",
       "    </tr>\n",
       "    <tr>\n",
       "      <th>4</th>\n",
       "      <td>2018-11-08 07:44:17.692000+00:00</td>\n",
       "      <td>0d56a730076643d585f77e00d2d8521a00000A</td>\n",
       "      <td>Uploading</td>\n",
       "      <td>STOP</td>\n",
       "      <td>1024-lvl12-7e026be3-5fd0-48ee-b7d1-abd61f747705</td>\n",
       "      <td>b2a466b7-3342-4514-9179-ca78782faaa6</td>\n",
       "      <td>27857</td>\n",
       "      <td>3.252170e+11</td>\n",
       "      <td>GPU-4874f64b-15e0-8520-6398-0e89c25ba61a</td>\n",
       "      <td>49.47</td>\n",
       "      <td>44</td>\n",
       "      <td>0</td>\n",
       "      <td>0</td>\n",
       "    </tr>\n",
       "    <tr>\n",
       "      <th>5</th>\n",
       "      <td>2018-11-08 07:44:17.692000+00:00</td>\n",
       "      <td>0d56a730076643d585f77e00d2d8521a00000A</td>\n",
       "      <td>TotalRender</td>\n",
       "      <td>STOP</td>\n",
       "      <td>1024-lvl12-7e026be3-5fd0-48ee-b7d1-abd61f747705</td>\n",
       "      <td>b2a466b7-3342-4514-9179-ca78782faaa6</td>\n",
       "      <td>27857</td>\n",
       "      <td>3.252170e+11</td>\n",
       "      <td>GPU-4874f64b-15e0-8520-6398-0e89c25ba61a</td>\n",
       "      <td>49.47</td>\n",
       "      <td>44</td>\n",
       "      <td>0</td>\n",
       "      <td>0</td>\n",
       "    </tr>\n",
       "    <tr>\n",
       "      <th>6</th>\n",
       "      <td>2018-11-08 07:53:31.944000+00:00</td>\n",
       "      <td>6139a35676de44d6b61ec247f0ed865700000B</td>\n",
       "      <td>TotalRender</td>\n",
       "      <td>START</td>\n",
       "      <td>1024-lvl12-7e026be3-5fd0-48ee-b7d1-abd61f747705</td>\n",
       "      <td>cb427324-b05c-4b9d-a59c-331c04d07104</td>\n",
       "      <td>28411</td>\n",
       "      <td>3.250170e+11</td>\n",
       "      <td>GPU-39d5bab7-9ab6-ea14-37c8-505ec3f8b612</td>\n",
       "      <td>25.88</td>\n",
       "      <td>37</td>\n",
       "      <td>0</td>\n",
       "      <td>0</td>\n",
       "    </tr>\n",
       "    <tr>\n",
       "      <th>7</th>\n",
       "      <td>2018-11-08 07:53:31.944000+00:00</td>\n",
       "      <td>6139a35676de44d6b61ec247f0ed865700000B</td>\n",
       "      <td>Saving Config</td>\n",
       "      <td>START</td>\n",
       "      <td>1024-lvl12-7e026be3-5fd0-48ee-b7d1-abd61f747705</td>\n",
       "      <td>cb427324-b05c-4b9d-a59c-331c04d07104</td>\n",
       "      <td>28411</td>\n",
       "      <td>3.250170e+11</td>\n",
       "      <td>GPU-39d5bab7-9ab6-ea14-37c8-505ec3f8b612</td>\n",
       "      <td>25.88</td>\n",
       "      <td>37</td>\n",
       "      <td>0</td>\n",
       "      <td>0</td>\n",
       "    </tr>\n",
       "    <tr>\n",
       "      <th>8</th>\n",
       "      <td>2018-11-08 07:54:07.110000+00:00</td>\n",
       "      <td>4ad946d4435c42dabb5073531ea4f315000019</td>\n",
       "      <td>Render</td>\n",
       "      <td>STOP</td>\n",
       "      <td>1024-lvl12-7e026be3-5fd0-48ee-b7d1-abd61f747705</td>\n",
       "      <td>734e61ae-ddc9-4745-98cb-d3995fd9d701</td>\n",
       "      <td>28447</td>\n",
       "      <td>3.250170e+11</td>\n",
       "      <td>GPU-060d05a9-cf3e-4da2-15d5-66cbc02705ea</td>\n",
       "      <td>42.71</td>\n",
       "      <td>39</td>\n",
       "      <td>0</td>\n",
       "      <td>0</td>\n",
       "    </tr>\n",
       "    <tr>\n",
       "      <th>9</th>\n",
       "      <td>2018-11-08 07:54:07.110000+00:00</td>\n",
       "      <td>4ad946d4435c42dabb5073531ea4f315000019</td>\n",
       "      <td>Uploading</td>\n",
       "      <td>START</td>\n",
       "      <td>1024-lvl12-7e026be3-5fd0-48ee-b7d1-abd61f747705</td>\n",
       "      <td>734e61ae-ddc9-4745-98cb-d3995fd9d701</td>\n",
       "      <td>28447</td>\n",
       "      <td>3.250170e+11</td>\n",
       "      <td>GPU-060d05a9-cf3e-4da2-15d5-66cbc02705ea</td>\n",
       "      <td>42.71</td>\n",
       "      <td>39</td>\n",
       "      <td>0</td>\n",
       "      <td>0</td>\n",
       "    </tr>\n",
       "  </tbody>\n",
       "</table>\n",
       "</div>"
      ],
      "text/plain": [
       "                         timestamp                                hostname  \\\n",
       "0 2018-11-08 07:42:59.534000+00:00  265232c5f6814768aeefa66a7bec6ff6000016   \n",
       "1 2018-11-08 07:42:59.534000+00:00  265232c5f6814768aeefa66a7bec6ff6000016   \n",
       "2 2018-11-08 07:43:01.207000+00:00  4ad946d4435c42dabb5073531ea4f31500000R   \n",
       "3 2018-11-08 07:43:01.207000+00:00  4ad946d4435c42dabb5073531ea4f31500000R   \n",
       "4 2018-11-08 07:44:17.692000+00:00  0d56a730076643d585f77e00d2d8521a00000A   \n",
       "5 2018-11-08 07:44:17.692000+00:00  0d56a730076643d585f77e00d2d8521a00000A   \n",
       "6 2018-11-08 07:53:31.944000+00:00  6139a35676de44d6b61ec247f0ed865700000B   \n",
       "7 2018-11-08 07:53:31.944000+00:00  6139a35676de44d6b61ec247f0ed865700000B   \n",
       "8 2018-11-08 07:54:07.110000+00:00  4ad946d4435c42dabb5073531ea4f315000019   \n",
       "9 2018-11-08 07:54:07.110000+00:00  4ad946d4435c42dabb5073531ea4f315000019   \n",
       "\n",
       "       eventName eventType                                            jobId  \\\n",
       "0    TotalRender      STOP  1024-lvl12-7e026be3-5fd0-48ee-b7d1-abd61f747705   \n",
       "1      Uploading      STOP  1024-lvl12-7e026be3-5fd0-48ee-b7d1-abd61f747705   \n",
       "2      Uploading      STOP  1024-lvl12-7e026be3-5fd0-48ee-b7d1-abd61f747705   \n",
       "3    TotalRender      STOP  1024-lvl12-7e026be3-5fd0-48ee-b7d1-abd61f747705   \n",
       "4      Uploading      STOP  1024-lvl12-7e026be3-5fd0-48ee-b7d1-abd61f747705   \n",
       "5    TotalRender      STOP  1024-lvl12-7e026be3-5fd0-48ee-b7d1-abd61f747705   \n",
       "6    TotalRender     START  1024-lvl12-7e026be3-5fd0-48ee-b7d1-abd61f747705   \n",
       "7  Saving Config     START  1024-lvl12-7e026be3-5fd0-48ee-b7d1-abd61f747705   \n",
       "8         Render      STOP  1024-lvl12-7e026be3-5fd0-48ee-b7d1-abd61f747705   \n",
       "9      Uploading     START  1024-lvl12-7e026be3-5fd0-48ee-b7d1-abd61f747705   \n",
       "\n",
       "                                 taskId  time_seconds     gpuSerial  \\\n",
       "0  2b887c36-8537-449c-8897-55d26e5f62b8         27779  3.232170e+11   \n",
       "1  2b887c36-8537-449c-8897-55d26e5f62b8         27779  3.232170e+11   \n",
       "2  9667bc99-6f91-4e14-af15-bec9b14ed888         27781  3.251170e+11   \n",
       "3  9667bc99-6f91-4e14-af15-bec9b14ed888         27781  3.251170e+11   \n",
       "4  b2a466b7-3342-4514-9179-ca78782faaa6         27857  3.252170e+11   \n",
       "5  b2a466b7-3342-4514-9179-ca78782faaa6         27857  3.252170e+11   \n",
       "6  cb427324-b05c-4b9d-a59c-331c04d07104         28411  3.250170e+11   \n",
       "7  cb427324-b05c-4b9d-a59c-331c04d07104         28411  3.250170e+11   \n",
       "8  734e61ae-ddc9-4745-98cb-d3995fd9d701         28447  3.250170e+11   \n",
       "9  734e61ae-ddc9-4745-98cb-d3995fd9d701         28447  3.250170e+11   \n",
       "\n",
       "                                    gpuUUID  powerDrawWatt  gpuTempC  \\\n",
       "0  GPU-6e17bcb9-d052-97d5-8066-32fe4ff15313          31.26        44   \n",
       "1  GPU-6e17bcb9-d052-97d5-8066-32fe4ff15313          31.26        44   \n",
       "2  GPU-5d40da2a-c371-35b4-73fd-ee622b82220e          43.49        34   \n",
       "3  GPU-5d40da2a-c371-35b4-73fd-ee622b82220e          43.49        34   \n",
       "4  GPU-4874f64b-15e0-8520-6398-0e89c25ba61a          49.47        44   \n",
       "5  GPU-4874f64b-15e0-8520-6398-0e89c25ba61a          49.47        44   \n",
       "6  GPU-39d5bab7-9ab6-ea14-37c8-505ec3f8b612          25.88        37   \n",
       "7  GPU-39d5bab7-9ab6-ea14-37c8-505ec3f8b612          25.88        37   \n",
       "8  GPU-060d05a9-cf3e-4da2-15d5-66cbc02705ea          42.71        39   \n",
       "9  GPU-060d05a9-cf3e-4da2-15d5-66cbc02705ea          42.71        39   \n",
       "\n",
       "   gpuUtilPerc  gpuMemUtilPerc  \n",
       "0            0               0  \n",
       "1            0               0  \n",
       "2            0               0  \n",
       "3            0               0  \n",
       "4            0               0  \n",
       "5            0               0  \n",
       "6            0               0  \n",
       "7            0               0  \n",
       "8            0               0  \n",
       "9            0               0  "
      ]
     },
     "execution_count": 24,
     "metadata": {},
     "output_type": "execute_result"
    }
   ],
   "source": [
    "# Attempting to merge AC and GPU\n",
    "\n",
    "ac_gpu = ac.merge(gpu)\n",
    "\n",
    "ac_gpu.info()\n",
    "ac_gpu.head(10)"
   ]
  },
  {
   "cell_type": "markdown",
   "id": "1d41c4bb",
   "metadata": {},
   "source": [
    "The last attempt of merging might have failed due to the extra parameters provided such as \"on\" and \"how\". Nevertheless, kernel has successfully executed this operation so we can go ahead to carry further operation"
   ]
  },
  {
   "cell_type": "code",
   "execution_count": 25,
   "id": "251dc23f",
   "metadata": {},
   "outputs": [
    {
     "name": "stdout",
     "output_type": "stream",
     "text": [
      "<class 'pandas.core.frame.DataFrame'>\n",
      "Int64Index: 231 entries, 0 to 230\n",
      "Data columns (total 6 columns):\n",
      " #   Column         Non-Null Count  Dtype              \n",
      "---  ------         --------------  -----              \n",
      " 0   timestamp      231 non-null    datetime64[ns, UTC]\n",
      " 1   eventName      231 non-null    object             \n",
      " 2   eventType      231 non-null    object             \n",
      " 3   time_seconds   231 non-null    int64              \n",
      " 4   powerDrawWatt  231 non-null    float64            \n",
      " 5   gpuTempC       231 non-null    int64              \n",
      "dtypes: datetime64[ns, UTC](1), float64(1), int64(2), object(2)\n",
      "memory usage: 12.6+ KB\n"
     ]
    }
   ],
   "source": [
    "# Dropping the unrequired columns\n",
    "\n",
    "ac_gpu.drop(['hostname','taskId','gpuSerial','gpuUUID', 'jobId', 'gpuUtilPerc', 'gpuMemUtilPerc'], inplace=True, axis=1)\n",
    "ac_gpu.info()"
   ]
  },
  {
   "cell_type": "code",
   "execution_count": 26,
   "id": "f83158af",
   "metadata": {},
   "outputs": [],
   "source": [
    "# Conversion of timestamp into time to calculate rendertime\n",
    "\n",
    "drop_ag = pd.DataFrame()\n",
    "drop_ag = ac_gpu\n",
    "\n",
    "# Convert 'timestamp'  to datetime\n",
    "drop_ag['timestamp'] = pd.to_datetime(drop_ag['timestamp'])\n",
    "drop_ag['time'] = drop_ag['timestamp'].dt.time\n",
    "\n",
    "\n",
    "# Convert timestmap to seconds\n",
    "drop_ag['time_seconds'] = drop_ag['timestamp'].dt.hour*3600 + drop_ag['timestamp'].dt.minute*60 + drop_ag['timestamp'].dt.second"
   ]
  },
  {
   "cell_type": "markdown",
   "id": "0ee4cdf8",
   "metadata": {},
   "source": [
    "Now, lets remove unncessary columns and entry which is not required for this goal like three column giving time information. Also since our task is about event \"render\", rest of the columns can be removed."
   ]
  },
  {
   "cell_type": "code",
   "execution_count": 27,
   "id": "458c4181",
   "metadata": {
    "scrolled": true
   },
   "outputs": [
    {
     "name": "stdout",
     "output_type": "stream",
     "text": [
      "       eventName eventType  time_seconds  powerDrawWatt  gpuTempC\n",
      "0    TotalRender      STOP         27779          31.26        44\n",
      "1      Uploading      STOP         27779          31.26        44\n",
      "2      Uploading      STOP         27781          43.49        34\n",
      "3    TotalRender      STOP         27781          43.49        34\n",
      "4      Uploading      STOP         27857          49.47        44\n",
      "5    TotalRender      STOP         27857          49.47        44\n",
      "6    TotalRender     START         28411          25.88        37\n",
      "7  Saving Config     START         28411          25.88        37\n",
      "8         Render      STOP         28447          42.71        39\n",
      "9      Uploading     START         28447          42.71        39\n"
     ]
    },
    {
     "data": {
      "text/html": [
       "<div>\n",
       "<style scoped>\n",
       "    .dataframe tbody tr th:only-of-type {\n",
       "        vertical-align: middle;\n",
       "    }\n",
       "\n",
       "    .dataframe tbody tr th {\n",
       "        vertical-align: top;\n",
       "    }\n",
       "\n",
       "    .dataframe thead th {\n",
       "        text-align: right;\n",
       "    }\n",
       "</style>\n",
       "<table border=\"1\" class=\"dataframe\">\n",
       "  <thead>\n",
       "    <tr style=\"text-align: right;\">\n",
       "      <th></th>\n",
       "      <th>eventName</th>\n",
       "      <th>eventType</th>\n",
       "      <th>time_seconds</th>\n",
       "      <th>powerDrawWatt</th>\n",
       "      <th>gpuTempC</th>\n",
       "    </tr>\n",
       "  </thead>\n",
       "  <tbody>\n",
       "    <tr>\n",
       "      <th>8</th>\n",
       "      <td>Render</td>\n",
       "      <td>STOP</td>\n",
       "      <td>28447</td>\n",
       "      <td>42.71</td>\n",
       "      <td>39</td>\n",
       "    </tr>\n",
       "    <tr>\n",
       "      <th>17</th>\n",
       "      <td>Render</td>\n",
       "      <td>START</td>\n",
       "      <td>28901</td>\n",
       "      <td>28.70</td>\n",
       "      <td>39</td>\n",
       "    </tr>\n",
       "    <tr>\n",
       "      <th>18</th>\n",
       "      <td>Render</td>\n",
       "      <td>STOP</td>\n",
       "      <td>28916</td>\n",
       "      <td>41.13</td>\n",
       "      <td>38</td>\n",
       "    </tr>\n",
       "    <tr>\n",
       "      <th>22</th>\n",
       "      <td>Render</td>\n",
       "      <td>STOP</td>\n",
       "      <td>27931</td>\n",
       "      <td>41.78</td>\n",
       "      <td>35</td>\n",
       "    </tr>\n",
       "    <tr>\n",
       "      <th>34</th>\n",
       "      <td>Render</td>\n",
       "      <td>START</td>\n",
       "      <td>28250</td>\n",
       "      <td>42.72</td>\n",
       "      <td>40</td>\n",
       "    </tr>\n",
       "    <tr>\n",
       "      <th>39</th>\n",
       "      <td>Render</td>\n",
       "      <td>START</td>\n",
       "      <td>28369</td>\n",
       "      <td>44.69</td>\n",
       "      <td>40</td>\n",
       "    </tr>\n",
       "    <tr>\n",
       "      <th>40</th>\n",
       "      <td>Render</td>\n",
       "      <td>STOP</td>\n",
       "      <td>28371</td>\n",
       "      <td>48.43</td>\n",
       "      <td>43</td>\n",
       "    </tr>\n",
       "    <tr>\n",
       "      <th>46</th>\n",
       "      <td>Render</td>\n",
       "      <td>START</td>\n",
       "      <td>29158</td>\n",
       "      <td>24.64</td>\n",
       "      <td>35</td>\n",
       "    </tr>\n",
       "    <tr>\n",
       "      <th>50</th>\n",
       "      <td>Render</td>\n",
       "      <td>STOP</td>\n",
       "      <td>30490</td>\n",
       "      <td>43.39</td>\n",
       "      <td>41</td>\n",
       "    </tr>\n",
       "    <tr>\n",
       "      <th>51</th>\n",
       "      <td>Render</td>\n",
       "      <td>STOP</td>\n",
       "      <td>29332</td>\n",
       "      <td>41.62</td>\n",
       "      <td>40</td>\n",
       "    </tr>\n",
       "  </tbody>\n",
       "</table>\n",
       "</div>"
      ],
      "text/plain": [
       "   eventName eventType  time_seconds  powerDrawWatt  gpuTempC\n",
       "8     Render      STOP         28447          42.71        39\n",
       "17    Render     START         28901          28.70        39\n",
       "18    Render      STOP         28916          41.13        38\n",
       "22    Render      STOP         27931          41.78        35\n",
       "34    Render     START         28250          42.72        40\n",
       "39    Render     START         28369          44.69        40\n",
       "40    Render      STOP         28371          48.43        43\n",
       "46    Render     START         29158          24.64        35\n",
       "50    Render      STOP         30490          43.39        41\n",
       "51    Render      STOP         29332          41.62        40"
      ]
     },
     "execution_count": 27,
     "metadata": {},
     "output_type": "execute_result"
    }
   ],
   "source": [
    "# Dropping unnecesary columns\n",
    "\n",
    "drop_ag.drop(['timestamp','time'], inplace=True, axis=1)\n",
    "\n",
    "print(drop_ag.head(10))\n",
    "\n",
    "# Remove all entries except 'eventName' = 'Render'\n",
    "render_ag = drop_ag[drop_ag['eventName'] == 'Render']\n",
    "\n",
    "render_ag.head(10)"
   ]
  },
  {
   "cell_type": "markdown",
   "id": "2bab917a",
   "metadata": {},
   "source": [
    "Interplay between increased draw and render time for eventname= 'RENDER' comparing the power draw in watts at different stages of event i.e the 'START' and 'STOP'."
   ]
  },
  {
   "cell_type": "code",
   "execution_count": 28,
   "id": "daca50f4",
   "metadata": {
    "scrolled": true
   },
   "outputs": [
    {
     "name": "stdout",
     "output_type": "stream",
     "text": [
      "           time_seconds  powerDrawWatt   gpuTempC\n",
      "eventType                                        \n",
      "START      28735.500000      34.491875  37.500000\n",
      "STOP       29038.952381      44.298095  39.809524\n"
     ]
    }
   ],
   "source": [
    "# Calculating the avg of power drawn in each stage by grouping by 'eventType' \n",
    "\n",
    "rss = render_ag.groupby('eventType').mean()\n",
    "print(rss)"
   ]
  },
  {
   "cell_type": "code",
   "execution_count": 29,
   "id": "f055ba1b",
   "metadata": {
    "scrolled": true
   },
   "outputs": [
    {
     "data": {
      "text/plain": [
       "<AxesSubplot:xlabel='eventType', ylabel='powerDrawWatt'>"
      ]
     },
     "execution_count": 29,
     "metadata": {},
     "output_type": "execute_result"
    },
    {
     "data": {
      "image/png": "[encoded data removed]",
      "text/plain": [
       "<Figure size 640x480 with 1 Axes>"
      ]
     },
     "metadata": {},
     "output_type": "display_data"
    }
   ],
   "source": [
    "# Plotting the graph of power drawn during START_STOP for Render\n",
    "\n",
    "sns.barplot(x= rss.index.get_level_values('eventType'), y=rss['powerDrawWatt'])"
   ]
  },
  {
   "cell_type": "markdown",
   "id": "7af54c57",
   "metadata": {},
   "source": [
    "From the Bar chart it can be interperted of that for 'Render' Event on an average during 'STOP' more power is drawn as compared to 'START'. Thus drawing the conclusion that as the event 'Render' progresses more wattage is used."
   ]
  },
  {
   "cell_type": "markdown",
   "id": "e83db5f0",
   "metadata": {},
   "source": [
    "For second part of the goal to quantify the variation in computation requirements like  powerDrawWatt, gpuTempC etc for each tiles,and thus we need to group them based on eventname and eventtype"
   ]
  },
  {
   "cell_type": "markdown",
   "id": "afbd217c",
   "metadata": {},
   "source": [
    "#1 : Computational Parameter considered is powerDrawWatt"
   ]
  },
  {
   "cell_type": "code",
   "execution_count": 30,
   "id": "780a4415",
   "metadata": {},
   "outputs": [
    {
     "data": {
      "text/html": [
       "<div>\n",
       "<style scoped>\n",
       "    .dataframe tbody tr th:only-of-type {\n",
       "        vertical-align: middle;\n",
       "    }\n",
       "\n",
       "    .dataframe tbody tr th {\n",
       "        vertical-align: top;\n",
       "    }\n",
       "\n",
       "    .dataframe thead th {\n",
       "        text-align: right;\n",
       "    }\n",
       "</style>\n",
       "<table border=\"1\" class=\"dataframe\">\n",
       "  <thead>\n",
       "    <tr style=\"text-align: right;\">\n",
       "      <th></th>\n",
       "      <th></th>\n",
       "      <th>time_seconds</th>\n",
       "      <th>powerDrawWatt</th>\n",
       "      <th>gpuTempC</th>\n",
       "    </tr>\n",
       "    <tr>\n",
       "      <th>eventName</th>\n",
       "      <th>eventType</th>\n",
       "      <th></th>\n",
       "      <th></th>\n",
       "      <th></th>\n",
       "    </tr>\n",
       "  </thead>\n",
       "  <tbody>\n",
       "    <tr>\n",
       "      <th rowspan=\"2\" valign=\"top\">Render</th>\n",
       "      <th>START</th>\n",
       "      <td>459768</td>\n",
       "      <td>551.87</td>\n",
       "      <td>600</td>\n",
       "    </tr>\n",
       "    <tr>\n",
       "      <th>STOP</th>\n",
       "      <td>609818</td>\n",
       "      <td>930.26</td>\n",
       "      <td>836</td>\n",
       "    </tr>\n",
       "    <tr>\n",
       "      <th rowspan=\"2\" valign=\"top\">Saving Config</th>\n",
       "      <th>START</th>\n",
       "      <td>729163</td>\n",
       "      <td>876.63</td>\n",
       "      <td>936</td>\n",
       "    </tr>\n",
       "    <tr>\n",
       "      <th>STOP</th>\n",
       "      <td>459768</td>\n",
       "      <td>551.87</td>\n",
       "      <td>600</td>\n",
       "    </tr>\n",
       "    <tr>\n",
       "      <th rowspan=\"2\" valign=\"top\">Tiling</th>\n",
       "      <th>START</th>\n",
       "      <td>1104131</td>\n",
       "      <td>1717.11</td>\n",
       "      <td>1510</td>\n",
       "    </tr>\n",
       "    <tr>\n",
       "      <th>STOP</th>\n",
       "      <td>729816</td>\n",
       "      <td>1081.14</td>\n",
       "      <td>982</td>\n",
       "    </tr>\n",
       "    <tr>\n",
       "      <th rowspan=\"2\" valign=\"top\">TotalRender</th>\n",
       "      <th>START</th>\n",
       "      <td>640507</td>\n",
       "      <td>764.89</td>\n",
       "      <td>823</td>\n",
       "    </tr>\n",
       "    <tr>\n",
       "      <th>STOP</th>\n",
       "      <td>725100</td>\n",
       "      <td>1072.62</td>\n",
       "      <td>977</td>\n",
       "    </tr>\n",
       "    <tr>\n",
       "      <th rowspan=\"2\" valign=\"top\">Uploading</th>\n",
       "      <th>START</th>\n",
       "      <td>520313</td>\n",
       "      <td>802.46</td>\n",
       "      <td>723</td>\n",
       "    </tr>\n",
       "    <tr>\n",
       "      <th>STOP</th>\n",
       "      <td>724224</td>\n",
       "      <td>1080.54</td>\n",
       "      <td>978</td>\n",
       "    </tr>\n",
       "  </tbody>\n",
       "</table>\n",
       "</div>"
      ],
      "text/plain": [
       "                         time_seconds  powerDrawWatt  gpuTempC\n",
       "eventName     eventType                                       \n",
       "Render        START            459768         551.87       600\n",
       "              STOP             609818         930.26       836\n",
       "Saving Config START            729163         876.63       936\n",
       "              STOP             459768         551.87       600\n",
       "Tiling        START           1104131        1717.11      1510\n",
       "              STOP             729816        1081.14       982\n",
       "TotalRender   START            640507         764.89       823\n",
       "              STOP             725100        1072.62       977\n",
       "Uploading     START            520313         802.46       723\n",
       "              STOP             724224        1080.54       978"
      ]
     },
     "execution_count": 30,
     "metadata": {},
     "output_type": "execute_result"
    }
   ],
   "source": [
    "# Grouping by eventname and eventtype, and \n",
    "# Calculating sum of Power drawn during each stage of each event\n",
    "#NOTE : the dataframe where all the chosen columns are there \n",
    "\n",
    "ac_gpu2 = drop_ag.groupby(by=['eventName','eventType']).sum()\n",
    "\n",
    "ac_gpu2.head(10)"
   ]
  },
  {
   "cell_type": "code",
   "execution_count": 31,
   "id": "4f94f851",
   "metadata": {},
   "outputs": [
    {
     "name": "stdout",
     "output_type": "stream",
     "text": [
      "<class 'pandas.core.frame.DataFrame'>\n",
      "MultiIndex: 10 entries, ('Render', 'START') to ('Uploading', 'STOP')\n",
      "Data columns (total 4 columns):\n",
      " #   Column          Non-Null Count  Dtype  \n",
      "---  ------          --------------  -----  \n",
      " 0   time_seconds    10 non-null     int64  \n",
      " 1   powerDrawWatt   10 non-null     float64\n",
      " 2   gpuTempC        10 non-null     int64  \n",
      " 3   Utilized_Power  10 non-null     float64\n",
      "dtypes: float64(2), int64(2)\n",
      "memory usage: 512.0+ bytes\n"
     ]
    },
    {
     "data": {
      "text/html": [
       "<div>\n",
       "<style scoped>\n",
       "    .dataframe tbody tr th:only-of-type {\n",
       "        vertical-align: middle;\n",
       "    }\n",
       "\n",
       "    .dataframe tbody tr th {\n",
       "        vertical-align: top;\n",
       "    }\n",
       "\n",
       "    .dataframe thead th {\n",
       "        text-align: right;\n",
       "    }\n",
       "</style>\n",
       "<table border=\"1\" class=\"dataframe\">\n",
       "  <thead>\n",
       "    <tr style=\"text-align: right;\">\n",
       "      <th></th>\n",
       "      <th></th>\n",
       "      <th>time_seconds</th>\n",
       "      <th>powerDrawWatt</th>\n",
       "      <th>gpuTempC</th>\n",
       "      <th>Utilized_Power</th>\n",
       "    </tr>\n",
       "    <tr>\n",
       "      <th>eventName</th>\n",
       "      <th>eventType</th>\n",
       "      <th></th>\n",
       "      <th></th>\n",
       "      <th></th>\n",
       "      <th></th>\n",
       "    </tr>\n",
       "  </thead>\n",
       "  <tbody>\n",
       "    <tr>\n",
       "      <th rowspan=\"2\" valign=\"top\">Render</th>\n",
       "      <th>START</th>\n",
       "      <td>459768</td>\n",
       "      <td>551.87</td>\n",
       "      <td>600</td>\n",
       "      <td>0.00</td>\n",
       "    </tr>\n",
       "    <tr>\n",
       "      <th>STOP</th>\n",
       "      <td>609818</td>\n",
       "      <td>930.26</td>\n",
       "      <td>836</td>\n",
       "      <td>378.39</td>\n",
       "    </tr>\n",
       "    <tr>\n",
       "      <th rowspan=\"2\" valign=\"top\">Saving Config</th>\n",
       "      <th>START</th>\n",
       "      <td>729163</td>\n",
       "      <td>876.63</td>\n",
       "      <td>936</td>\n",
       "      <td>0.00</td>\n",
       "    </tr>\n",
       "    <tr>\n",
       "      <th>STOP</th>\n",
       "      <td>459768</td>\n",
       "      <td>551.87</td>\n",
       "      <td>600</td>\n",
       "      <td>-324.76</td>\n",
       "    </tr>\n",
       "    <tr>\n",
       "      <th rowspan=\"2\" valign=\"top\">Tiling</th>\n",
       "      <th>START</th>\n",
       "      <td>1104131</td>\n",
       "      <td>1717.11</td>\n",
       "      <td>1510</td>\n",
       "      <td>0.00</td>\n",
       "    </tr>\n",
       "    <tr>\n",
       "      <th>STOP</th>\n",
       "      <td>729816</td>\n",
       "      <td>1081.14</td>\n",
       "      <td>982</td>\n",
       "      <td>-635.97</td>\n",
       "    </tr>\n",
       "    <tr>\n",
       "      <th rowspan=\"2\" valign=\"top\">TotalRender</th>\n",
       "      <th>START</th>\n",
       "      <td>640507</td>\n",
       "      <td>764.89</td>\n",
       "      <td>823</td>\n",
       "      <td>0.00</td>\n",
       "    </tr>\n",
       "    <tr>\n",
       "      <th>STOP</th>\n",
       "      <td>725100</td>\n",
       "      <td>1072.62</td>\n",
       "      <td>977</td>\n",
       "      <td>307.73</td>\n",
       "    </tr>\n",
       "    <tr>\n",
       "      <th rowspan=\"2\" valign=\"top\">Uploading</th>\n",
       "      <th>START</th>\n",
       "      <td>520313</td>\n",
       "      <td>802.46</td>\n",
       "      <td>723</td>\n",
       "      <td>0.00</td>\n",
       "    </tr>\n",
       "    <tr>\n",
       "      <th>STOP</th>\n",
       "      <td>724224</td>\n",
       "      <td>1080.54</td>\n",
       "      <td>978</td>\n",
       "      <td>278.08</td>\n",
       "    </tr>\n",
       "  </tbody>\n",
       "</table>\n",
       "</div>"
      ],
      "text/plain": [
       "                         time_seconds  powerDrawWatt  gpuTempC  Utilized_Power\n",
       "eventName     eventType                                                       \n",
       "Render        START            459768         551.87       600            0.00\n",
       "              STOP             609818         930.26       836          378.39\n",
       "Saving Config START            729163         876.63       936            0.00\n",
       "              STOP             459768         551.87       600         -324.76\n",
       "Tiling        START           1104131        1717.11      1510            0.00\n",
       "              STOP             729816        1081.14       982         -635.97\n",
       "TotalRender   START            640507         764.89       823            0.00\n",
       "              STOP             725100        1072.62       977          307.73\n",
       "Uploading     START            520313         802.46       723            0.00\n",
       "              STOP             724224        1080.54       978          278.08"
      ]
     },
     "execution_count": 31,
     "metadata": {},
     "output_type": "execute_result"
    }
   ],
   "source": [
    "#Calculating the power difference between START and STOP of each event \n",
    "\n",
    "ac_gpu2['Utilized_Power'] = ac_gpu2.groupby('eventName')['powerDrawWatt'].diff()\n",
    "ac_gpu2['Utilized_Power'] = ac_gpu2['Utilized_Power'].fillna(0)\n",
    "ac_gpu2.info()\n",
    "ac_gpu2.head(10)\n"
   ]
  },
  {
   "cell_type": "markdown",
   "id": "177017d8",
   "metadata": {},
   "source": [
    "Now that the power drawn per event is calculated while the event was carried out from START to STOP. \n",
    "Lets remove unwanted entries like Total Render and where Utilized_Power=0"
   ]
  },
  {
   "cell_type": "code",
   "execution_count": 32,
   "id": "ff887e0f",
   "metadata": {},
   "outputs": [
    {
     "data": {
      "text/html": [
       "<div>\n",
       "<style scoped>\n",
       "    .dataframe tbody tr th:only-of-type {\n",
       "        vertical-align: middle;\n",
       "    }\n",
       "\n",
       "    .dataframe tbody tr th {\n",
       "        vertical-align: top;\n",
       "    }\n",
       "\n",
       "    .dataframe thead th {\n",
       "        text-align: right;\n",
       "    }\n",
       "</style>\n",
       "<table border=\"1\" class=\"dataframe\">\n",
       "  <thead>\n",
       "    <tr style=\"text-align: right;\">\n",
       "      <th></th>\n",
       "      <th></th>\n",
       "      <th>time_seconds</th>\n",
       "      <th>powerDrawWatt</th>\n",
       "      <th>gpuTempC</th>\n",
       "      <th>Utilized_Power</th>\n",
       "    </tr>\n",
       "    <tr>\n",
       "      <th>eventName</th>\n",
       "      <th>eventType</th>\n",
       "      <th></th>\n",
       "      <th></th>\n",
       "      <th></th>\n",
       "      <th></th>\n",
       "    </tr>\n",
       "  </thead>\n",
       "  <tbody>\n",
       "    <tr>\n",
       "      <th>Render</th>\n",
       "      <th>STOP</th>\n",
       "      <td>609818</td>\n",
       "      <td>930.26</td>\n",
       "      <td>836</td>\n",
       "      <td>378.39</td>\n",
       "    </tr>\n",
       "    <tr>\n",
       "      <th>Saving Config</th>\n",
       "      <th>STOP</th>\n",
       "      <td>459768</td>\n",
       "      <td>551.87</td>\n",
       "      <td>600</td>\n",
       "      <td>-324.76</td>\n",
       "    </tr>\n",
       "    <tr>\n",
       "      <th>Tiling</th>\n",
       "      <th>STOP</th>\n",
       "      <td>729816</td>\n",
       "      <td>1081.14</td>\n",
       "      <td>982</td>\n",
       "      <td>-635.97</td>\n",
       "    </tr>\n",
       "    <tr>\n",
       "      <th>Uploading</th>\n",
       "      <th>STOP</th>\n",
       "      <td>724224</td>\n",
       "      <td>1080.54</td>\n",
       "      <td>978</td>\n",
       "      <td>278.08</td>\n",
       "    </tr>\n",
       "  </tbody>\n",
       "</table>\n",
       "</div>"
      ],
      "text/plain": [
       "                         time_seconds  powerDrawWatt  gpuTempC  Utilized_Power\n",
       "eventName     eventType                                                       \n",
       "Render        STOP             609818         930.26       836          378.39\n",
       "Saving Config STOP             459768         551.87       600         -324.76\n",
       "Tiling        STOP             729816        1081.14       982         -635.97\n",
       "Uploading     STOP             724224        1080.54       978          278.08"
      ]
     },
     "execution_count": 32,
     "metadata": {},
     "output_type": "execute_result"
    }
   ],
   "source": [
    "# Removing unwanted entries\n",
    "\n",
    "# Removing event : Total Render\n",
    "\n",
    "ac_gpu2 = ac_gpu2[ac_gpu2.index.get_level_values('eventName') != 'TotalRender']\n",
    "\n",
    "# Only keeping STOP entries for each event\n",
    "\n",
    "ac_gpu2 = ac_gpu2[ac_gpu2.index.get_level_values('eventType') == 'STOP']\n",
    "\n",
    "ac_gpu2.head(10)"
   ]
  },
  {
   "cell_type": "code",
   "execution_count": 33,
   "id": "75c78e94",
   "metadata": {
    "scrolled": true
   },
   "outputs": [
    {
     "data": {
      "text/plain": [
       "<AxesSubplot:xlabel='eventName', ylabel='Utilized_Power'>"
      ]
     },
     "execution_count": 33,
     "metadata": {},
     "output_type": "execute_result"
    },
    {
     "data": {
      "image/png": "[encoded data removed]",
      "text/plain": [
       "<Figure size 640x480 with 1 Axes>"
      ]
     },
     "metadata": {},
     "output_type": "display_data"
    }
   ],
   "source": [
    "# Plotting the graph of power drawn during all events from START to STOP\n",
    "\n",
    "sns.barplot(x= ac_gpu2.index.get_level_values('eventName'), y=ac_gpu2['Utilized_Power'])"
   ]
  },
  {
   "cell_type": "markdown",
   "id": "e594c7e2",
   "metadata": {},
   "source": [
    "From the Bar chart it can be interperted of that for each Event during the progress ie. 'START' to 'STOP' power consumption varies. \n",
    "\n",
    "Thus drawing the conclusion that as the event 'Render' consumes more out of all events, followed by uploading, saving config, Tiling.\n",
    "\n",
    "With the progress of event 'Saving Config' and 'Tiling' less power is drawn thus it has negative growth.\n",
    "\n",
    "Render also dominates the Runtimes of all event, which is well justified now.\n"
   ]
  },
  {
   "cell_type": "markdown",
   "id": "1d5a192c",
   "metadata": {},
   "source": [
    "#2 : Computational Parameter considered is gpuTempC "
   ]
  },
  {
   "cell_type": "markdown",
   "id": "71b228aa",
   "metadata": {},
   "source": [
    "Repeating the above steps for gpuTempC as powerDrawWatt."
   ]
  },
  {
   "cell_type": "code",
   "execution_count": 34,
   "id": "7e0bf4ee",
   "metadata": {},
   "outputs": [
    {
     "data": {
      "text/html": [
       "<div>\n",
       "<style scoped>\n",
       "    .dataframe tbody tr th:only-of-type {\n",
       "        vertical-align: middle;\n",
       "    }\n",
       "\n",
       "    .dataframe tbody tr th {\n",
       "        vertical-align: top;\n",
       "    }\n",
       "\n",
       "    .dataframe thead th {\n",
       "        text-align: right;\n",
       "    }\n",
       "</style>\n",
       "<table border=\"1\" class=\"dataframe\">\n",
       "  <thead>\n",
       "    <tr style=\"text-align: right;\">\n",
       "      <th></th>\n",
       "      <th></th>\n",
       "      <th>time_seconds</th>\n",
       "      <th>powerDrawWatt</th>\n",
       "      <th>gpuTempC</th>\n",
       "    </tr>\n",
       "    <tr>\n",
       "      <th>eventName</th>\n",
       "      <th>eventType</th>\n",
       "      <th></th>\n",
       "      <th></th>\n",
       "      <th></th>\n",
       "    </tr>\n",
       "  </thead>\n",
       "  <tbody>\n",
       "    <tr>\n",
       "      <th rowspan=\"2\" valign=\"top\">Render</th>\n",
       "      <th>START</th>\n",
       "      <td>459768</td>\n",
       "      <td>551.87</td>\n",
       "      <td>600</td>\n",
       "    </tr>\n",
       "    <tr>\n",
       "      <th>STOP</th>\n",
       "      <td>609818</td>\n",
       "      <td>930.26</td>\n",
       "      <td>836</td>\n",
       "    </tr>\n",
       "    <tr>\n",
       "      <th rowspan=\"2\" valign=\"top\">Saving Config</th>\n",
       "      <th>START</th>\n",
       "      <td>729163</td>\n",
       "      <td>876.63</td>\n",
       "      <td>936</td>\n",
       "    </tr>\n",
       "    <tr>\n",
       "      <th>STOP</th>\n",
       "      <td>459768</td>\n",
       "      <td>551.87</td>\n",
       "      <td>600</td>\n",
       "    </tr>\n",
       "    <tr>\n",
       "      <th rowspan=\"2\" valign=\"top\">Tiling</th>\n",
       "      <th>START</th>\n",
       "      <td>1104131</td>\n",
       "      <td>1717.11</td>\n",
       "      <td>1510</td>\n",
       "    </tr>\n",
       "    <tr>\n",
       "      <th>STOP</th>\n",
       "      <td>729816</td>\n",
       "      <td>1081.14</td>\n",
       "      <td>982</td>\n",
       "    </tr>\n",
       "    <tr>\n",
       "      <th rowspan=\"2\" valign=\"top\">TotalRender</th>\n",
       "      <th>START</th>\n",
       "      <td>640507</td>\n",
       "      <td>764.89</td>\n",
       "      <td>823</td>\n",
       "    </tr>\n",
       "    <tr>\n",
       "      <th>STOP</th>\n",
       "      <td>725100</td>\n",
       "      <td>1072.62</td>\n",
       "      <td>977</td>\n",
       "    </tr>\n",
       "    <tr>\n",
       "      <th rowspan=\"2\" valign=\"top\">Uploading</th>\n",
       "      <th>START</th>\n",
       "      <td>520313</td>\n",
       "      <td>802.46</td>\n",
       "      <td>723</td>\n",
       "    </tr>\n",
       "    <tr>\n",
       "      <th>STOP</th>\n",
       "      <td>724224</td>\n",
       "      <td>1080.54</td>\n",
       "      <td>978</td>\n",
       "    </tr>\n",
       "  </tbody>\n",
       "</table>\n",
       "</div>"
      ],
      "text/plain": [
       "                         time_seconds  powerDrawWatt  gpuTempC\n",
       "eventName     eventType                                       \n",
       "Render        START            459768         551.87       600\n",
       "              STOP             609818         930.26       836\n",
       "Saving Config START            729163         876.63       936\n",
       "              STOP             459768         551.87       600\n",
       "Tiling        START           1104131        1717.11      1510\n",
       "              STOP             729816        1081.14       982\n",
       "TotalRender   START            640507         764.89       823\n",
       "              STOP             725100        1072.62       977\n",
       "Uploading     START            520313         802.46       723\n",
       "              STOP             724224        1080.54       978"
      ]
     },
     "execution_count": 34,
     "metadata": {},
     "output_type": "execute_result"
    }
   ],
   "source": [
    "# Grouping by eventname and eventtype, and \n",
    "# Calculating avg of gpuTempC during each stage of each event\n",
    "#NOTE : the dataframe where all the chosen columns are there \n",
    "\n",
    "ac_gpu3 = drop_ag.groupby(by=['eventName','eventType']).sum()\n",
    "\n",
    "ac_gpu3.head(10)"
   ]
  },
  {
   "cell_type": "code",
   "execution_count": 35,
   "id": "ac794f36",
   "metadata": {},
   "outputs": [
    {
     "data": {
      "text/html": [
       "<div>\n",
       "<style scoped>\n",
       "    .dataframe tbody tr th:only-of-type {\n",
       "        vertical-align: middle;\n",
       "    }\n",
       "\n",
       "    .dataframe tbody tr th {\n",
       "        vertical-align: top;\n",
       "    }\n",
       "\n",
       "    .dataframe thead th {\n",
       "        text-align: right;\n",
       "    }\n",
       "</style>\n",
       "<table border=\"1\" class=\"dataframe\">\n",
       "  <thead>\n",
       "    <tr style=\"text-align: right;\">\n",
       "      <th></th>\n",
       "      <th></th>\n",
       "      <th>time_seconds</th>\n",
       "      <th>powerDrawWatt</th>\n",
       "      <th>gpuTempC</th>\n",
       "      <th>tempdiff</th>\n",
       "    </tr>\n",
       "    <tr>\n",
       "      <th>eventName</th>\n",
       "      <th>eventType</th>\n",
       "      <th></th>\n",
       "      <th></th>\n",
       "      <th></th>\n",
       "      <th></th>\n",
       "    </tr>\n",
       "  </thead>\n",
       "  <tbody>\n",
       "    <tr>\n",
       "      <th rowspan=\"2\" valign=\"top\">Render</th>\n",
       "      <th>START</th>\n",
       "      <td>459768</td>\n",
       "      <td>551.87</td>\n",
       "      <td>600</td>\n",
       "      <td>NaN</td>\n",
       "    </tr>\n",
       "    <tr>\n",
       "      <th>STOP</th>\n",
       "      <td>609818</td>\n",
       "      <td>930.26</td>\n",
       "      <td>836</td>\n",
       "      <td>236.0</td>\n",
       "    </tr>\n",
       "    <tr>\n",
       "      <th rowspan=\"2\" valign=\"top\">Saving Config</th>\n",
       "      <th>START</th>\n",
       "      <td>729163</td>\n",
       "      <td>876.63</td>\n",
       "      <td>936</td>\n",
       "      <td>NaN</td>\n",
       "    </tr>\n",
       "    <tr>\n",
       "      <th>STOP</th>\n",
       "      <td>459768</td>\n",
       "      <td>551.87</td>\n",
       "      <td>600</td>\n",
       "      <td>-336.0</td>\n",
       "    </tr>\n",
       "    <tr>\n",
       "      <th rowspan=\"2\" valign=\"top\">Tiling</th>\n",
       "      <th>START</th>\n",
       "      <td>1104131</td>\n",
       "      <td>1717.11</td>\n",
       "      <td>1510</td>\n",
       "      <td>NaN</td>\n",
       "    </tr>\n",
       "    <tr>\n",
       "      <th>STOP</th>\n",
       "      <td>729816</td>\n",
       "      <td>1081.14</td>\n",
       "      <td>982</td>\n",
       "      <td>-528.0</td>\n",
       "    </tr>\n",
       "    <tr>\n",
       "      <th rowspan=\"2\" valign=\"top\">TotalRender</th>\n",
       "      <th>START</th>\n",
       "      <td>640507</td>\n",
       "      <td>764.89</td>\n",
       "      <td>823</td>\n",
       "      <td>NaN</td>\n",
       "    </tr>\n",
       "    <tr>\n",
       "      <th>STOP</th>\n",
       "      <td>725100</td>\n",
       "      <td>1072.62</td>\n",
       "      <td>977</td>\n",
       "      <td>154.0</td>\n",
       "    </tr>\n",
       "    <tr>\n",
       "      <th rowspan=\"2\" valign=\"top\">Uploading</th>\n",
       "      <th>START</th>\n",
       "      <td>520313</td>\n",
       "      <td>802.46</td>\n",
       "      <td>723</td>\n",
       "      <td>NaN</td>\n",
       "    </tr>\n",
       "    <tr>\n",
       "      <th>STOP</th>\n",
       "      <td>724224</td>\n",
       "      <td>1080.54</td>\n",
       "      <td>978</td>\n",
       "      <td>255.0</td>\n",
       "    </tr>\n",
       "  </tbody>\n",
       "</table>\n",
       "</div>"
      ],
      "text/plain": [
       "                         time_seconds  powerDrawWatt  gpuTempC  tempdiff\n",
       "eventName     eventType                                                 \n",
       "Render        START            459768         551.87       600       NaN\n",
       "              STOP             609818         930.26       836     236.0\n",
       "Saving Config START            729163         876.63       936       NaN\n",
       "              STOP             459768         551.87       600    -336.0\n",
       "Tiling        START           1104131        1717.11      1510       NaN\n",
       "              STOP             729816        1081.14       982    -528.0\n",
       "TotalRender   START            640507         764.89       823       NaN\n",
       "              STOP             725100        1072.62       977     154.0\n",
       "Uploading     START            520313         802.46       723       NaN\n",
       "              STOP             724224        1080.54       978     255.0"
      ]
     },
     "execution_count": 35,
     "metadata": {},
     "output_type": "execute_result"
    }
   ],
   "source": [
    "# Difference calculation based on \n",
    "ac_gpu3['tempdiff'] = ac_gpu3.groupby('eventName')['gpuTempC'].diff()\n",
    "\n",
    "ac_gpu3.head(10)"
   ]
  },
  {
   "cell_type": "code",
   "execution_count": 36,
   "id": "a795b7d3",
   "metadata": {},
   "outputs": [
    {
     "data": {
      "text/html": [
       "<div>\n",
       "<style scoped>\n",
       "    .dataframe tbody tr th:only-of-type {\n",
       "        vertical-align: middle;\n",
       "    }\n",
       "\n",
       "    .dataframe tbody tr th {\n",
       "        vertical-align: top;\n",
       "    }\n",
       "\n",
       "    .dataframe thead th {\n",
       "        text-align: right;\n",
       "    }\n",
       "</style>\n",
       "<table border=\"1\" class=\"dataframe\">\n",
       "  <thead>\n",
       "    <tr style=\"text-align: right;\">\n",
       "      <th></th>\n",
       "      <th></th>\n",
       "      <th>time_seconds</th>\n",
       "      <th>powerDrawWatt</th>\n",
       "      <th>gpuTempC</th>\n",
       "      <th>tempdiff</th>\n",
       "    </tr>\n",
       "    <tr>\n",
       "      <th>eventName</th>\n",
       "      <th>eventType</th>\n",
       "      <th></th>\n",
       "      <th></th>\n",
       "      <th></th>\n",
       "      <th></th>\n",
       "    </tr>\n",
       "  </thead>\n",
       "  <tbody>\n",
       "    <tr>\n",
       "      <th>Render</th>\n",
       "      <th>STOP</th>\n",
       "      <td>609818</td>\n",
       "      <td>930.26</td>\n",
       "      <td>836</td>\n",
       "      <td>236.0</td>\n",
       "    </tr>\n",
       "    <tr>\n",
       "      <th>Saving Config</th>\n",
       "      <th>STOP</th>\n",
       "      <td>459768</td>\n",
       "      <td>551.87</td>\n",
       "      <td>600</td>\n",
       "      <td>-336.0</td>\n",
       "    </tr>\n",
       "    <tr>\n",
       "      <th>Tiling</th>\n",
       "      <th>STOP</th>\n",
       "      <td>729816</td>\n",
       "      <td>1081.14</td>\n",
       "      <td>982</td>\n",
       "      <td>-528.0</td>\n",
       "    </tr>\n",
       "    <tr>\n",
       "      <th>Uploading</th>\n",
       "      <th>STOP</th>\n",
       "      <td>724224</td>\n",
       "      <td>1080.54</td>\n",
       "      <td>978</td>\n",
       "      <td>255.0</td>\n",
       "    </tr>\n",
       "  </tbody>\n",
       "</table>\n",
       "</div>"
      ],
      "text/plain": [
       "                         time_seconds  powerDrawWatt  gpuTempC  tempdiff\n",
       "eventName     eventType                                                 \n",
       "Render        STOP             609818         930.26       836     236.0\n",
       "Saving Config STOP             459768         551.87       600    -336.0\n",
       "Tiling        STOP             729816        1081.14       982    -528.0\n",
       "Uploading     STOP             724224        1080.54       978     255.0"
      ]
     },
     "execution_count": 36,
     "metadata": {},
     "output_type": "execute_result"
    }
   ],
   "source": [
    "# Removing unwanted entries\n",
    "\n",
    "# Removing event : Total Render\n",
    "\n",
    "ac_gpu3 = ac_gpu3[ac_gpu3.index.get_level_values('eventName') != 'TotalRender']\n",
    "\n",
    "# Only keeping STOP entries for each event\n",
    "\n",
    "ac_gpu3 = ac_gpu3[ac_gpu3.index.get_level_values('eventType') == 'STOP']\n",
    "\n",
    "ac_gpu3.head(10)"
   ]
  },
  {
   "cell_type": "code",
   "execution_count": 37,
   "id": "2b6c0d78",
   "metadata": {
    "scrolled": true
   },
   "outputs": [
    {
     "data": {
      "text/plain": [
       "<AxesSubplot:xlabel='eventName', ylabel='tempdiff'>"
      ]
     },
     "execution_count": 37,
     "metadata": {},
     "output_type": "execute_result"
    },
    {
     "data": {
      "image/png": "[encoded data removed]",
      "text/plain": [
       "<Figure size 640x480 with 1 Axes>"
      ]
     },
     "metadata": {},
     "output_type": "display_data"
    }
   ],
   "source": [
    "# Plotting the graph of power drawn during all events from START to STOP\n",
    "\n",
    "sns.barplot(x= ac_gpu3.index.get_level_values('eventName'), y=ac_gpu3['tempdiff'])"
   ]
  },
  {
   "cell_type": "markdown",
   "id": "41ffca45",
   "metadata": {},
   "source": [
    "From the Bar chart it can be interperted of that for each Event during the progress ie. 'START' to 'STOP' gpuTempC varies. \n",
    "\n",
    "Thus drawing the conclusion that as the event 'Uploading' GPU temp is highest out of all events, followed by render, saving config, Tiling.\n",
    "\n",
    "With the progress of event 'Saving Config' and 'Tiling' temp of GPU drops thus it has negative growth.\n",
    "Tilling is where temperature drop is maximum."
   ]
  },
  {
   "cell_type": "code",
   "execution_count": null,
   "id": "13276065",
   "metadata": {},
   "outputs": [],
   "source": []
  }
 ],
 "metadata": {
  "kernelspec": {
   "display_name": "Python 3 (ipykernel)",
   "language": "python",
   "name": "python3"
  },
  "language_info": {
   "codemirror_mode": {
    "name": "ipython",
    "version": 3
   },
   "file_extension": ".py",
   "mimetype": "text/x-python",
   "name": "python",
   "nbconvert_exporter": "python",
   "pygments_lexer": "ipython3",
   "version": "3.9.13"
  }
 },
 "nbformat": 4,
 "nbformat_minor": 5
}
