{
 "cells": [
  {
   "cell_type": "code",
   "execution_count": 1,
   "id": "48043f7f",
   "metadata": {},
   "outputs": [],
   "source": [
    "#importing Important Library\n",
    "\n",
    "import re\n",
    "import numpy as np\n",
    "import pandas as pd\n",
    "import nltk\n",
    "\n",
    "import seaborn as sns\n",
    "import matplotlib.pyplot as plt\n",
    "import matplotlib\n",
    "matplotlib.style.use('ggplot')"
   ]
  },
  {
   "cell_type": "code",
   "execution_count": 2,
   "id": "5bb9e938",
   "metadata": {},
   "outputs": [],
   "source": [
    "#Loading Data\n",
    "\n",
    "gpu = pd.read_csv('GPU.csv')\n",
    "xy = pd.read_csv('Task-x-y.csv')\n",
    "ac = pd.read_csv('Application-checkpoints.csv')"
   ]
  },
  {
   "cell_type": "markdown",
   "id": "b8f4ad94",
   "metadata": {},
   "source": [
    "Now lets explore the data structure"
   ]
  },
  {
   "cell_type": "code",
   "execution_count": 3,
   "id": "5b066d6c",
   "metadata": {},
   "outputs": [
    {
     "name": "stdout",
     "output_type": "stream",
     "text": [
      "Shape of GPU : (1048575, 8)\n",
      "Shape of Task-x-y : (65793, 5)\n",
      "Shape of Application-checkpoints : (660400, 6)\n"
     ]
    }
   ],
   "source": [
    "# Shape of the data frame \n",
    "\n",
    "print(f\"Shape of GPU : {gpu.shape}\")\n",
    "print(f\"Shape of Task-x-y : {xy.shape}\")\n",
    "print(f\"Shape of Application-checkpoints : {ac.shape}\")"
   ]
  },
  {
   "cell_type": "markdown",
   "id": "d970cff4",
   "metadata": {},
   "source": [
    "So Now we know that three data frames have different frame and different entries of data."
   ]
  },
  {
   "cell_type": "code",
   "execution_count": 4,
   "id": "73546d32",
   "metadata": {},
   "outputs": [
    {
     "name": "stdout",
     "output_type": "stream",
     "text": [
      "<class 'pandas.core.frame.DataFrame'>\n",
      "RangeIndex: 1048575 entries, 0 to 1048574\n",
      "Data columns (total 8 columns):\n",
      " #   Column          Non-Null Count    Dtype  \n",
      "---  ------          --------------    -----  \n",
      " 0   timestamp       1048575 non-null  object \n",
      " 1   hostname        1048575 non-null  object \n",
      " 2   gpuSerial       1048575 non-null  float64\n",
      " 3   gpuUUID         1048575 non-null  object \n",
      " 4   powerDrawWatt   1048575 non-null  float64\n",
      " 5   gpuTempC        1048575 non-null  int64  \n",
      " 6   gpuUtilPerc     1048575 non-null  int64  \n",
      " 7   gpuMemUtilPerc  1048575 non-null  int64  \n",
      "dtypes: float64(2), int64(3), object(3)\n",
      "memory usage: 64.0+ MB\n",
      "None\n",
      "<class 'pandas.core.frame.DataFrame'>\n",
      "RangeIndex: 65793 entries, 0 to 65792\n",
      "Data columns (total 5 columns):\n",
      " #   Column  Non-Null Count  Dtype \n",
      "---  ------  --------------  ----- \n",
      " 0   taskId  65793 non-null  object\n",
      " 1   jobId   65793 non-null  object\n",
      " 2   x       65793 non-null  int64 \n",
      " 3   y       65793 non-null  int64 \n",
      " 4   level   65793 non-null  int64 \n",
      "dtypes: int64(3), object(2)\n",
      "memory usage: 2.5+ MB\n",
      "None\n",
      "<class 'pandas.core.frame.DataFrame'>\n",
      "RangeIndex: 660400 entries, 0 to 660399\n",
      "Data columns (total 6 columns):\n",
      " #   Column     Non-Null Count   Dtype \n",
      "---  ------     --------------   ----- \n",
      " 0   timestamp  660400 non-null  object\n",
      " 1   hostname   660400 non-null  object\n",
      " 2   eventName  660400 non-null  object\n",
      " 3   eventType  660400 non-null  object\n",
      " 4   jobId      660400 non-null  object\n",
      " 5   taskId     660400 non-null  object\n",
      "dtypes: object(6)\n",
      "memory usage: 30.2+ MB\n",
      "None\n"
     ]
    }
   ],
   "source": [
    "# Summary structure of each column of each data frame\n",
    "\n",
    "print(gpu.info())\n",
    "print(xy.info())\n",
    "print(ac.info())"
   ]
  },
  {
   "cell_type": "markdown",
   "id": "5e299aac",
   "metadata": {},
   "source": [
    " Lets Dig for deeper understanding of data frames."
   ]
  },
  {
   "cell_type": "markdown",
   "id": "7a1e8409",
   "metadata": {},
   "source": [
    " To undestand the data better looking into few entries of the data frames"
   ]
  },
  {
   "cell_type": "code",
   "execution_count": 5,
   "id": "e2db2e51",
   "metadata": {},
   "outputs": [
    {
     "name": "stdout",
     "output_type": "stream",
     "text": [
      "------------ GPU ----------------\n"
     ]
    },
    {
     "data": {
      "text/html": [
       "<div>\n",
       "<style scoped>\n",
       "    .dataframe tbody tr th:only-of-type {\n",
       "        vertical-align: middle;\n",
       "    }\n",
       "\n",
       "    .dataframe tbody tr th {\n",
       "        vertical-align: top;\n",
       "    }\n",
       "\n",
       "    .dataframe thead th {\n",
       "        text-align: right;\n",
       "    }\n",
       "</style>\n",
       "<table border=\"1\" class=\"dataframe\">\n",
       "  <thead>\n",
       "    <tr style=\"text-align: right;\">\n",
       "      <th></th>\n",
       "      <th>timestamp</th>\n",
       "      <th>hostname</th>\n",
       "      <th>gpuSerial</th>\n",
       "      <th>gpuUUID</th>\n",
       "      <th>powerDrawWatt</th>\n",
       "      <th>gpuTempC</th>\n",
       "      <th>gpuUtilPerc</th>\n",
       "      <th>gpuMemUtilPerc</th>\n",
       "    </tr>\n",
       "  </thead>\n",
       "  <tbody>\n",
       "    <tr>\n",
       "      <th>0</th>\n",
       "      <td>2018-11-08T08:27:10.314Z</td>\n",
       "      <td>8b6a0eebc87b4cb2b0539e81075191b900001C</td>\n",
       "      <td>3.232170e+11</td>\n",
       "      <td>GPU-1d1602dc-f615-a7c7-ab53-fb4a7a479534</td>\n",
       "      <td>131.55</td>\n",
       "      <td>48</td>\n",
       "      <td>92</td>\n",
       "      <td>53</td>\n",
       "    </tr>\n",
       "    <tr>\n",
       "      <th>1</th>\n",
       "      <td>2018-11-08T08:27:10.192Z</td>\n",
       "      <td>d8241877cd994572b46c861e5d144c85000000</td>\n",
       "      <td>3.236170e+11</td>\n",
       "      <td>GPU-04a2dea7-f4f1-12d0-b94d-996446746e6f</td>\n",
       "      <td>117.03</td>\n",
       "      <td>40</td>\n",
       "      <td>92</td>\n",
       "      <td>48</td>\n",
       "    </tr>\n",
       "    <tr>\n",
       "      <th>2</th>\n",
       "      <td>2018-11-08T08:27:10.842Z</td>\n",
       "      <td>db871cd77a544e13bc791a64a0c8ed50000006</td>\n",
       "      <td>3.232170e+11</td>\n",
       "      <td>GPU-f4597939-a0b4-e78a-2436-12dbab9a350f</td>\n",
       "      <td>121.64</td>\n",
       "      <td>45</td>\n",
       "      <td>91</td>\n",
       "      <td>44</td>\n",
       "    </tr>\n",
       "    <tr>\n",
       "      <th>3</th>\n",
       "      <td>2018-11-08T08:27:10.424Z</td>\n",
       "      <td>b9a1fa7ae2f74eb68f25f607980f97d7000010</td>\n",
       "      <td>3.252170e+11</td>\n",
       "      <td>GPU-ad773c69-c386-a4be-b214-1ea4fc6045df</td>\n",
       "      <td>50.23</td>\n",
       "      <td>38</td>\n",
       "      <td>90</td>\n",
       "      <td>43</td>\n",
       "    </tr>\n",
       "    <tr>\n",
       "      <th>4</th>\n",
       "      <td>2018-11-08T08:27:10.937Z</td>\n",
       "      <td>db871cd77a544e13bc791a64a0c8ed50000003</td>\n",
       "      <td>3.232170e+11</td>\n",
       "      <td>GPU-2d4eed64-4ca8-f12c-24bc-28f036493ea2</td>\n",
       "      <td>141.82</td>\n",
       "      <td>41</td>\n",
       "      <td>90</td>\n",
       "      <td>47</td>\n",
       "    </tr>\n",
       "  </tbody>\n",
       "</table>\n",
       "</div>"
      ],
      "text/plain": [
       "                  timestamp                                hostname  \\\n",
       "0  2018-11-08T08:27:10.314Z  8b6a0eebc87b4cb2b0539e81075191b900001C   \n",
       "1  2018-11-08T08:27:10.192Z  d8241877cd994572b46c861e5d144c85000000   \n",
       "2  2018-11-08T08:27:10.842Z  db871cd77a544e13bc791a64a0c8ed50000006   \n",
       "3  2018-11-08T08:27:10.424Z  b9a1fa7ae2f74eb68f25f607980f97d7000010   \n",
       "4  2018-11-08T08:27:10.937Z  db871cd77a544e13bc791a64a0c8ed50000003   \n",
       "\n",
       "      gpuSerial                                   gpuUUID  powerDrawWatt  \\\n",
       "0  3.232170e+11  GPU-1d1602dc-f615-a7c7-ab53-fb4a7a479534         131.55   \n",
       "1  3.236170e+11  GPU-04a2dea7-f4f1-12d0-b94d-996446746e6f         117.03   \n",
       "2  3.232170e+11  GPU-f4597939-a0b4-e78a-2436-12dbab9a350f         121.64   \n",
       "3  3.252170e+11  GPU-ad773c69-c386-a4be-b214-1ea4fc6045df          50.23   \n",
       "4  3.232170e+11  GPU-2d4eed64-4ca8-f12c-24bc-28f036493ea2         141.82   \n",
       "\n",
       "   gpuTempC  gpuUtilPerc  gpuMemUtilPerc  \n",
       "0        48           92              53  \n",
       "1        40           92              48  \n",
       "2        45           91              44  \n",
       "3        38           90              43  \n",
       "4        41           90              47  "
      ]
     },
     "execution_count": 5,
     "metadata": {},
     "output_type": "execute_result"
    }
   ],
   "source": [
    "print(\"------------ GPU ----------------\")\n",
    "gpu.head()"
   ]
  },
  {
   "cell_type": "code",
   "execution_count": 6,
   "id": "f34f2998",
   "metadata": {},
   "outputs": [
    {
     "name": "stdout",
     "output_type": "stream",
     "text": [
      "------------ task-x-y ----------------\n"
     ]
    },
    {
     "data": {
      "text/html": [
       "<div>\n",
       "<style scoped>\n",
       "    .dataframe tbody tr th:only-of-type {\n",
       "        vertical-align: middle;\n",
       "    }\n",
       "\n",
       "    .dataframe tbody tr th {\n",
       "        vertical-align: top;\n",
       "    }\n",
       "\n",
       "    .dataframe thead th {\n",
       "        text-align: right;\n",
       "    }\n",
       "</style>\n",
       "<table border=\"1\" class=\"dataframe\">\n",
       "  <thead>\n",
       "    <tr style=\"text-align: right;\">\n",
       "      <th></th>\n",
       "      <th>taskId</th>\n",
       "      <th>jobId</th>\n",
       "      <th>x</th>\n",
       "      <th>y</th>\n",
       "      <th>level</th>\n",
       "    </tr>\n",
       "  </thead>\n",
       "  <tbody>\n",
       "    <tr>\n",
       "      <th>0</th>\n",
       "      <td>00004e77-304c-4fbd-88a1-1346ef947567</td>\n",
       "      <td>1024-lvl12-7e026be3-5fd0-48ee-b7d1-abd61f747705</td>\n",
       "      <td>116</td>\n",
       "      <td>178</td>\n",
       "      <td>12</td>\n",
       "    </tr>\n",
       "    <tr>\n",
       "      <th>1</th>\n",
       "      <td>0002afb5-d05e-4da9-bd53-7b6dc19ea6d4</td>\n",
       "      <td>1024-lvl12-7e026be3-5fd0-48ee-b7d1-abd61f747705</td>\n",
       "      <td>142</td>\n",
       "      <td>190</td>\n",
       "      <td>12</td>\n",
       "    </tr>\n",
       "    <tr>\n",
       "      <th>2</th>\n",
       "      <td>0003c380-4db9-49fb-8e1c-6f8ae466ad85</td>\n",
       "      <td>1024-lvl12-7e026be3-5fd0-48ee-b7d1-abd61f747705</td>\n",
       "      <td>142</td>\n",
       "      <td>86</td>\n",
       "      <td>12</td>\n",
       "    </tr>\n",
       "    <tr>\n",
       "      <th>3</th>\n",
       "      <td>000993b6-fc88-489d-a4ca-0a44fd800bd3</td>\n",
       "      <td>1024-lvl12-7e026be3-5fd0-48ee-b7d1-abd61f747705</td>\n",
       "      <td>235</td>\n",
       "      <td>11</td>\n",
       "      <td>12</td>\n",
       "    </tr>\n",
       "    <tr>\n",
       "      <th>4</th>\n",
       "      <td>000b158b-0ba3-4dca-bf5b-1b3bd5c28207</td>\n",
       "      <td>1024-lvl12-7e026be3-5fd0-48ee-b7d1-abd61f747705</td>\n",
       "      <td>171</td>\n",
       "      <td>53</td>\n",
       "      <td>12</td>\n",
       "    </tr>\n",
       "  </tbody>\n",
       "</table>\n",
       "</div>"
      ],
      "text/plain": [
       "                                 taskId  \\\n",
       "0  00004e77-304c-4fbd-88a1-1346ef947567   \n",
       "1  0002afb5-d05e-4da9-bd53-7b6dc19ea6d4   \n",
       "2  0003c380-4db9-49fb-8e1c-6f8ae466ad85   \n",
       "3  000993b6-fc88-489d-a4ca-0a44fd800bd3   \n",
       "4  000b158b-0ba3-4dca-bf5b-1b3bd5c28207   \n",
       "\n",
       "                                             jobId    x    y  level  \n",
       "0  1024-lvl12-7e026be3-5fd0-48ee-b7d1-abd61f747705  116  178     12  \n",
       "1  1024-lvl12-7e026be3-5fd0-48ee-b7d1-abd61f747705  142  190     12  \n",
       "2  1024-lvl12-7e026be3-5fd0-48ee-b7d1-abd61f747705  142   86     12  \n",
       "3  1024-lvl12-7e026be3-5fd0-48ee-b7d1-abd61f747705  235   11     12  \n",
       "4  1024-lvl12-7e026be3-5fd0-48ee-b7d1-abd61f747705  171   53     12  "
      ]
     },
     "execution_count": 6,
     "metadata": {},
     "output_type": "execute_result"
    }
   ],
   "source": [
    "print(\"------------ task-x-y ----------------\")\n",
    "xy.head()"
   ]
  },
  {
   "cell_type": "code",
   "execution_count": 7,
   "id": "6654e6dc",
   "metadata": {},
   "outputs": [
    {
     "name": "stdout",
     "output_type": "stream",
     "text": [
      "------------ ac ----------------\n"
     ]
    },
    {
     "data": {
      "text/html": [
       "<div>\n",
       "<style scoped>\n",
       "    .dataframe tbody tr th:only-of-type {\n",
       "        vertical-align: middle;\n",
       "    }\n",
       "\n",
       "    .dataframe tbody tr th {\n",
       "        vertical-align: top;\n",
       "    }\n",
       "\n",
       "    .dataframe thead th {\n",
       "        text-align: right;\n",
       "    }\n",
       "</style>\n",
       "<table border=\"1\" class=\"dataframe\">\n",
       "  <thead>\n",
       "    <tr style=\"text-align: right;\">\n",
       "      <th></th>\n",
       "      <th>timestamp</th>\n",
       "      <th>hostname</th>\n",
       "      <th>eventName</th>\n",
       "      <th>eventType</th>\n",
       "      <th>jobId</th>\n",
       "      <th>taskId</th>\n",
       "    </tr>\n",
       "  </thead>\n",
       "  <tbody>\n",
       "    <tr>\n",
       "      <th>0</th>\n",
       "      <td>2018-11-08T07:41:55.921Z</td>\n",
       "      <td>0d56a730076643d585f77e00d2d8521a00000N</td>\n",
       "      <td>Tiling</td>\n",
       "      <td>STOP</td>\n",
       "      <td>1024-lvl12-7e026be3-5fd0-48ee-b7d1-abd61f747705</td>\n",
       "      <td>b47f0263-ba1c-48a7-8d29-4bf021b72043</td>\n",
       "    </tr>\n",
       "    <tr>\n",
       "      <th>1</th>\n",
       "      <td>2018-11-08T07:42:29.842Z</td>\n",
       "      <td>0d56a730076643d585f77e00d2d8521a00000N</td>\n",
       "      <td>Saving Config</td>\n",
       "      <td>START</td>\n",
       "      <td>1024-lvl12-7e026be3-5fd0-48ee-b7d1-abd61f747705</td>\n",
       "      <td>20fb9fcf-a927-4a4b-a64c-70258b66b42d</td>\n",
       "    </tr>\n",
       "    <tr>\n",
       "      <th>2</th>\n",
       "      <td>2018-11-08T07:42:29.845Z</td>\n",
       "      <td>0d56a730076643d585f77e00d2d8521a00000N</td>\n",
       "      <td>Saving Config</td>\n",
       "      <td>STOP</td>\n",
       "      <td>1024-lvl12-7e026be3-5fd0-48ee-b7d1-abd61f747705</td>\n",
       "      <td>20fb9fcf-a927-4a4b-a64c-70258b66b42d</td>\n",
       "    </tr>\n",
       "    <tr>\n",
       "      <th>3</th>\n",
       "      <td>2018-11-08T07:42:29.845Z</td>\n",
       "      <td>0d56a730076643d585f77e00d2d8521a00000N</td>\n",
       "      <td>Render</td>\n",
       "      <td>START</td>\n",
       "      <td>1024-lvl12-7e026be3-5fd0-48ee-b7d1-abd61f747705</td>\n",
       "      <td>20fb9fcf-a927-4a4b-a64c-70258b66b42d</td>\n",
       "    </tr>\n",
       "    <tr>\n",
       "      <th>4</th>\n",
       "      <td>2018-11-08T07:43:13.957Z</td>\n",
       "      <td>0d56a730076643d585f77e00d2d8521a00000N</td>\n",
       "      <td>TotalRender</td>\n",
       "      <td>STOP</td>\n",
       "      <td>1024-lvl12-7e026be3-5fd0-48ee-b7d1-abd61f747705</td>\n",
       "      <td>20fb9fcf-a927-4a4b-a64c-70258b66b42d</td>\n",
       "    </tr>\n",
       "  </tbody>\n",
       "</table>\n",
       "</div>"
      ],
      "text/plain": [
       "                  timestamp                                hostname  \\\n",
       "0  2018-11-08T07:41:55.921Z  0d56a730076643d585f77e00d2d8521a00000N   \n",
       "1  2018-11-08T07:42:29.842Z  0d56a730076643d585f77e00d2d8521a00000N   \n",
       "2  2018-11-08T07:42:29.845Z  0d56a730076643d585f77e00d2d8521a00000N   \n",
       "3  2018-11-08T07:42:29.845Z  0d56a730076643d585f77e00d2d8521a00000N   \n",
       "4  2018-11-08T07:43:13.957Z  0d56a730076643d585f77e00d2d8521a00000N   \n",
       "\n",
       "       eventName eventType                                            jobId  \\\n",
       "0         Tiling      STOP  1024-lvl12-7e026be3-5fd0-48ee-b7d1-abd61f747705   \n",
       "1  Saving Config     START  1024-lvl12-7e026be3-5fd0-48ee-b7d1-abd61f747705   \n",
       "2  Saving Config      STOP  1024-lvl12-7e026be3-5fd0-48ee-b7d1-abd61f747705   \n",
       "3         Render     START  1024-lvl12-7e026be3-5fd0-48ee-b7d1-abd61f747705   \n",
       "4    TotalRender      STOP  1024-lvl12-7e026be3-5fd0-48ee-b7d1-abd61f747705   \n",
       "\n",
       "                                 taskId  \n",
       "0  b47f0263-ba1c-48a7-8d29-4bf021b72043  \n",
       "1  20fb9fcf-a927-4a4b-a64c-70258b66b42d  \n",
       "2  20fb9fcf-a927-4a4b-a64c-70258b66b42d  \n",
       "3  20fb9fcf-a927-4a4b-a64c-70258b66b42d  \n",
       "4  20fb9fcf-a927-4a4b-a64c-70258b66b42d  "
      ]
     },
     "execution_count": 7,
     "metadata": {},
     "output_type": "execute_result"
    }
   ],
   "source": [
    "print(\"------------ ac ----------------\")\n",
    "ac.head()"
   ]
  },
  {
   "cell_type": "markdown",
   "id": "fa2c99c8",
   "metadata": {},
   "source": [
    "It will be an easier analysis if all three dataframes combined into one, but before that we need to remove column with null or na entry."
   ]
  },
  {
   "cell_type": "code",
   "execution_count": 9,
   "id": "693d6d77",
   "metadata": {},
   "outputs": [],
   "source": [
    "# Dropping NULL or NA entries.\n",
    "\n",
    "ac.dropna(inplace=True)\n",
    "xy.dropna(inplace=True)\n",
    "gpu.dropna(inplace=True)"
   ]
  },
  {
   "cell_type": "code",
   "execution_count": 10,
   "id": "3ef69717",
   "metadata": {},
   "outputs": [
    {
     "name": "stdout",
     "output_type": "stream",
     "text": [
      "<class 'pandas.core.frame.DataFrame'>\n",
      "Int64Index: 660400 entries, 0 to 660399\n",
      "Data columns (total 9 columns):\n",
      " #   Column     Non-Null Count   Dtype              \n",
      "---  ------     --------------   -----              \n",
      " 0   taskId     660400 non-null  object             \n",
      " 1   jobId      660400 non-null  object             \n",
      " 2   x          660400 non-null  int64              \n",
      " 3   y          660400 non-null  int64              \n",
      " 4   level      660400 non-null  int64              \n",
      " 5   timestamp  660400 non-null  datetime64[ns, UTC]\n",
      " 6   hostname   660400 non-null  object             \n",
      " 7   eventName  660400 non-null  object             \n",
      " 8   eventType  660400 non-null  object             \n",
      "dtypes: datetime64[ns, UTC](1), int64(3), object(5)\n",
      "memory usage: 50.4+ MB\n"
     ]
    }
   ],
   "source": [
    "# Merging 2 dataframes based on columns using join operation\n",
    "\n",
    "merged_table = xy.merge( ac, on=['jobId','taskId'], how='outer')\n",
    "\n",
    "merged_table.info()"
   ]
  },
  {
   "cell_type": "markdown",
   "id": "bb038d1b",
   "metadata": {},
   "source": [
    "#Now attempting to merge the third dataframe to already existing  merged dataframes\n",
    "\n",
    "merged_table1 = ac.merge( gpu, on=['hostname'], how='outer')\n",
    "\n",
    "After multiple attempts kernel died, so instead of combining the dataframes, preferring to work in seperate data frame"
   ]
  },
  {
   "cell_type": "code",
   "execution_count": 11,
   "id": "68d30877",
   "metadata": {
    "scrolled": true
   },
   "outputs": [
    {
     "name": "stdout",
     "output_type": "stream",
     "text": [
      "Duplicate entried in  GPU : 6\n",
      "Duplicate entried in  Task-x-y : 0\n",
      "Duplicate entried in  Application-checkpoints : 2470\n"
     ]
    }
   ],
   "source": [
    "# Checking for any duplicate entries in the dataset for each data frames\n",
    "\n",
    "print(f\"Duplicate entried in  GPU : {gpu.duplicated().sum()}\")\n",
    "print(f\"Duplicate entried in  Task-x-y : {xy.duplicated().sum()}\")\n",
    "print(f\"Duplicate entried in  Application-checkpoints : {ac.duplicated().sum()}\")"
   ]
  },
  {
   "cell_type": "code",
   "execution_count": 12,
   "id": "416deacb",
   "metadata": {},
   "outputs": [],
   "source": [
    "# Removing duplicate entries\n",
    "\n",
    "gpu.drop_duplicates(inplace=True)\n",
    "xy.drop_duplicates(inplace=True)\n",
    "ac.drop_duplicates(inplace=True)"
   ]
  },
  {
   "cell_type": "markdown",
   "id": "eb4b4ca2",
   "metadata": {},
   "source": [
    "# TASK 1 : Which event types dominate task runtimes?"
   ]
  },
  {
   "cell_type": "markdown",
   "id": "6f2a4a63",
   "metadata": {},
   "source": [
    "Lets first check how many types of events are present "
   ]
  },
  {
   "cell_type": "code",
   "execution_count": 13,
   "id": "f70e3ddb",
   "metadata": {},
   "outputs": [
    {
     "data": {
      "text/plain": [
       "array(['Tiling', 'Saving Config', 'Render', 'TotalRender', 'Uploading'],\n",
       "      dtype=object)"
      ]
     },
     "execution_count": 13,
     "metadata": {},
     "output_type": "execute_result"
    }
   ],
   "source": [
    "# Checking the number of unique events in the dataset\n",
    "\n",
    "ac['eventName'].unique()"
   ]
  },
  {
   "cell_type": "code",
   "execution_count": 20,
   "id": "a62707a2",
   "metadata": {},
   "outputs": [
    {
     "ename": "NameError",
     "evalue": "name 'items' is not defined",
     "output_type": "error",
     "traceback": [
      "\u001b[0;31m---------------------------------------------------------------------------\u001b[0m",
      "\u001b[0;31mNameError\u001b[0m                                 Traceback (most recent call last)",
      "\u001b[0;32m/var/folders/50/bwnknb495bn9xjf36lgd79h00000gn/T/ipykernel_89236/357476108.py\u001b[0m in \u001b[0;36m<module>\u001b[0;34m\u001b[0m\n\u001b[0;32m----> 1\u001b[0;31m \u001b[0mac\u001b[0m \u001b[0;34m=\u001b[0m \u001b[0msorted\u001b[0m\u001b[0;34m(\u001b[0m\u001b[0mitems\u001b[0m\u001b[0;34m,\u001b[0m \u001b[0mkey\u001b[0m\u001b[0;34m=\u001b[0m\u001b[0;32mlambda\u001b[0m \u001b[0mitem\u001b[0m\u001b[0;34m:\u001b[0m \u001b[0mitem\u001b[0m\u001b[0;34m[\u001b[0m\u001b[0;34m'timestamp'\u001b[0m\u001b[0;34m]\u001b[0m\u001b[0;34m)\u001b[0m\u001b[0;34m\u001b[0m\u001b[0;34m\u001b[0m\u001b[0m\n\u001b[0m",
      "\u001b[0;31mNameError\u001b[0m: name 'items' is not defined"
     ]
    }
   ],
   "source": [
    "ac = sorted(items, key=lambda item: item['timestamp'])"
   ]
  },
  {
   "cell_type": "code",
   "execution_count": 8,
   "id": "d70d2c42",
   "metadata": {},
   "outputs": [],
   "source": [
    "# Conversion of timestamp column to datetime for easier duration calculation in future\n",
    "\n",
    "ac['timestamp'] = pd.to_datetime(ac['timestamp'])\n",
    "gpu['timestamp'] = pd.to_datetime(gpu['timestamp'])\n"
   ]
  },
  {
   "cell_type": "code",
   "execution_count": 14,
   "id": "77c31a45",
   "metadata": {},
   "outputs": [],
   "source": [
    "# Converting timestamp to time calculate time\n",
    "\n",
    "\n",
    "#convert timestmap to seconds\n",
    "\n",
    "\n",
    "ac['time_seconds'] = ac['timestamp'].dt.hour*3600 + ac['timestamp'].dt.minute*60 + ac['timestamp'].dt.second\n"
   ]
  },
  {
   "cell_type": "code",
   "execution_count": 15,
   "id": "a6ebf9ae",
   "metadata": {},
   "outputs": [
    {
     "name": "stdout",
     "output_type": "stream",
     "text": [
      "            eventName eventType  time_seconds\n",
      "0              Tiling      STOP         27715\n",
      "1       Saving Config     START         27749\n",
      "2       Saving Config      STOP         27749\n",
      "3              Render     START         27749\n",
      "4         TotalRender      STOP         27793\n",
      "...               ...       ...           ...\n",
      "660395         Tiling      STOP         30610\n",
      "660396      Uploading      STOP         30610\n",
      "660397         Tiling      STOP         30614\n",
      "660398    TotalRender      STOP         30614\n",
      "660399      Uploading      STOP         30612\n",
      "\n",
      "[657930 rows x 3 columns]\n"
     ]
    }
   ],
   "source": [
    "# Dropping other columns which wont be required\n",
    "\n",
    "ACdrop = ac.drop(columns=['hostname','jobId','taskId','timestamp'])\n",
    "print(ACdrop)"
   ]
  },
  {
   "cell_type": "code",
   "execution_count": 16,
   "id": "74f92778",
   "metadata": {},
   "outputs": [
    {
     "name": "stdout",
     "output_type": "stream",
     "text": [
      "            eventName eventType  time_seconds  duration\n",
      "0              Tiling      STOP         27715       0.0\n",
      "1       Saving Config     START         27749       0.0\n",
      "2       Saving Config      STOP         27749       0.0\n",
      "3              Render     START         27749       0.0\n",
      "4         TotalRender      STOP         27793       0.0\n",
      "...               ...       ...           ...       ...\n",
      "660395         Tiling      STOP         30610       0.0\n",
      "660396      Uploading      STOP         30610       0.0\n",
      "660397         Tiling      STOP         30614       0.0\n",
      "660398    TotalRender      STOP         30614       0.0\n",
      "660399      Uploading      STOP         30612       0.0\n",
      "\n",
      "[657930 rows x 4 columns]\n"
     ]
    }
   ],
   "source": [
    "# create a new column for duration\n",
    "ACdrop['duration'] = 0\n",
    "\n",
    "\n",
    "def calculate_duration(group):\n",
    "    start_times = {}\n",
    "    for i, row in group.iterrows():\n",
    "        if row['eventType'] == 'START':\n",
    "            start_times[row['eventName']] = row['time_seconds']\n",
    "        elif row['eventType'] == 'STOP':\n",
    "            if row['eventName'] in start_times:\n",
    "                group.at[i, 'duration'] = (pd.to_datetime(row['time_seconds']) - pd.to_datetime(start_times[row['eventName']])).total_seconds()\n",
    "    return group\n",
    "\n",
    "ACdrop = ACdrop.groupby(['eventName']).apply(calculate_duration)\n",
    "\n",
    "print(ACdrop)\n"
   ]
  },
  {
   "cell_type": "markdown",
   "id": "53d844fe",
   "metadata": {},
   "source": [
    "So there are 5 even types. Lets which takes maximum run times among these 5 events. each event has a entry when is START and when it STOP."
   ]
  },
  {
   "cell_type": "code",
   "execution_count": 17,
   "id": "b4eb8b71",
   "metadata": {},
   "outputs": [
    {
     "name": "stdout",
     "output_type": "stream",
     "text": [
      "                         time_seconds  duration\n",
      "eventName     eventType                        \n",
      "Render        START        1915934995  0.000000\n",
      "              STOP         1918646223 -0.015537\n",
      "Saving Config START        1915934825  0.000000\n",
      "              STOP         1915934989 -0.007191\n",
      "Tiling        START        1918646691  0.000000\n",
      "              STOP         1918710709 -0.012830\n",
      "TotalRender   START        1915934819  0.000000\n",
      "              STOP         1918737852 -0.015596\n",
      "Uploading     START        1918646230  0.000000\n",
      "              STOP         1918737844 -0.012978\n"
     ]
    }
   ],
   "source": [
    "# Grouping based on event name and their event type\n",
    "\n",
    "\n",
    "ACdrop = ACdrop.groupby(by=['eventName','eventType']).sum()\n",
    "print(ACdrop)"
   ]
  },
  {
   "cell_type": "code",
   "execution_count": 18,
   "id": "d50444b2",
   "metadata": {},
   "outputs": [
    {
     "name": "stdout",
     "output_type": "stream",
     "text": [
      "                              timestamp  \\\n",
      "0      2018-11-08 07:41:55.921000+00:00   \n",
      "1      2018-11-08 07:42:29.842000+00:00   \n",
      "2      2018-11-08 07:42:29.845000+00:00   \n",
      "3      2018-11-08 07:42:29.845000+00:00   \n",
      "4      2018-11-08 07:43:13.957000+00:00   \n",
      "...                                 ...   \n",
      "660395 2018-11-08 08:30:10.296000+00:00   \n",
      "660396 2018-11-08 08:30:10.325000+00:00   \n",
      "660397 2018-11-08 08:30:14.081000+00:00   \n",
      "660398 2018-11-08 08:30:14.127000+00:00   \n",
      "660399 2018-11-08 08:30:12.159000+00:00   \n",
      "\n",
      "                                      hostname      eventName  \\\n",
      "0       0d56a730076643d585f77e00d2d8521a00000N         Tiling   \n",
      "1       0d56a730076643d585f77e00d2d8521a00000N  Saving Config   \n",
      "2       0d56a730076643d585f77e00d2d8521a00000N  Saving Config   \n",
      "3       0d56a730076643d585f77e00d2d8521a00000N         Render   \n",
      "4       0d56a730076643d585f77e00d2d8521a00000N    TotalRender   \n",
      "...                                        ...            ...   \n",
      "660395  0745914f4de046078517041d70b22fe700000I         Tiling   \n",
      "660396  0745914f4de046078517041d70b22fe700000I      Uploading   \n",
      "660397  a77ef58b13ad4c01b769dac8409af3f800000H         Tiling   \n",
      "660398  a77ef58b13ad4c01b769dac8409af3f800000H    TotalRender   \n",
      "660399  0d56a730076643d585f77e00d2d8521a000009      Uploading   \n",
      "\n",
      "                                                  jobId  \\\n",
      "0       1024-lvl12-7e026be3-5fd0-48ee-b7d1-abd61f747705   \n",
      "1       1024-lvl12-7e026be3-5fd0-48ee-b7d1-abd61f747705   \n",
      "2       1024-lvl12-7e026be3-5fd0-48ee-b7d1-abd61f747705   \n",
      "3       1024-lvl12-7e026be3-5fd0-48ee-b7d1-abd61f747705   \n",
      "4       1024-lvl12-7e026be3-5fd0-48ee-b7d1-abd61f747705   \n",
      "...                                                 ...   \n",
      "660395  1024-lvl12-7e026be3-5fd0-48ee-b7d1-abd61f747705   \n",
      "660396  1024-lvl12-7e026be3-5fd0-48ee-b7d1-abd61f747705   \n",
      "660397  1024-lvl12-7e026be3-5fd0-48ee-b7d1-abd61f747705   \n",
      "660398  1024-lvl12-7e026be3-5fd0-48ee-b7d1-abd61f747705   \n",
      "660399  1024-lvl12-7e026be3-5fd0-48ee-b7d1-abd61f747705   \n",
      "\n",
      "                                      taskId  time_seconds  \n",
      "0       b47f0263-ba1c-48a7-8d29-4bf021b72043         27715  \n",
      "1       20fb9fcf-a927-4a4b-a64c-70258b66b42d         27749  \n",
      "2       20fb9fcf-a927-4a4b-a64c-70258b66b42d         27749  \n",
      "3       20fb9fcf-a927-4a4b-a64c-70258b66b42d         27749  \n",
      "4       20fb9fcf-a927-4a4b-a64c-70258b66b42d         27793  \n",
      "...                                      ...           ...  \n",
      "660395  8261c0ff-03d6-48b3-a50f-da41cb3291fd         30610  \n",
      "660396  8261c0ff-03d6-48b3-a50f-da41cb3291fd         30610  \n",
      "660397  ce97e3e9-494a-43a7-aa85-edd2db4cf099         30614  \n",
      "660398  ce97e3e9-494a-43a7-aa85-edd2db4cf099         30614  \n",
      "660399  bbf4ff73-c754-4111-95cd-a339c87a2b17         30612  \n",
      "\n",
      "[657930 rows x 6 columns]\n"
     ]
    }
   ],
   "source": [
    "# Calculate Duration between START and STOP of each event\n",
    "\n",
    "ACdrop['time_diff'] = ACdrop.groupby('eventName')['time_seconds'].diff()\n",
    "ACdrop['time_diff'] = ACdrop['time_diff'].fillna(0)\n",
    "ACdrop['time_diff'] = ACdrop['time_diff'].astype(int)\n",
    "\n",
    "# Dropping eventType column that arent required\n",
    "\n",
    "ACdrop = ac.drop(columns=['eventType'])\n",
    "\n",
    "\n",
    "print(ACdrop)"
   ]
  },
  {
   "cell_type": "code",
   "execution_count": 19,
   "id": "bd015bf0",
   "metadata": {},
   "outputs": [
    {
     "data": {
      "image/png": "[encoded data removed]",
      "text/plain": [
       "<Figure size 640x480 with 1 Axes>"
      ]
     },
     "metadata": {},
     "output_type": "display_data"
    }
   ],
   "source": [
    "ac.eventName.value_counts().plot(kind=\"bar\")\n",
    "plt.title(\"Accodent counts and its severity\")\n",
    "plt.xlabel(\"Severity of Accident \")\n",
    "plt.xticks(rotation=0)\n",
    "plt.ylabel(\"Case Count\")\n",
    "plt.show()\n"
   ]
  }
 ],
 "metadata": {
  "kernelspec": {
   "display_name": "Python 3 (ipykernel)",
   "language": "python",
   "name": "python3"
  },
  "language_info": {
   "codemirror_mode": {
    "name": "ipython",
    "version": 3
   },
   "file_extension": ".py",
   "mimetype": "text/x-python",
   "name": "python",
   "nbconvert_exporter": "python",
   "pygments_lexer": "ipython3",
   "version": "3.9.13"
  }
 },
 "nbformat": 4,
 "nbformat_minor": 5
}
